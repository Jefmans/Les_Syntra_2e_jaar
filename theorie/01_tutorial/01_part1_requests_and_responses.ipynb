{
 "cells": [
  {
   "attachments": {},
   "cell_type": "markdown",
   "metadata": {},
   "source": [
    "# Creating project\n",
    "\n",
    "In de zelfde folder waar onze venv staat. \n",
    "Dus in de folder \"polls\".\n",
    "\n",
    "Maken we nu een django project \"mysite\" aan:"
   ]
  },
  {
   "cell_type": "code",
   "execution_count": null,
   "metadata": {
    "vscode": {
     "languageId": "shellscript"
    }
   },
   "outputs": [],
   "source": [
    "django-admin startproject mysite"
   ]
  },
  {
   "attachments": {},
   "cell_type": "markdown",
   "metadata": {},
   "source": [
    "Je kan enkel `django-admin` uitvoeren om te zien welke commandos zoals \"statproject\" er nog zijn.\n",
    "\n",
    "Hiervan komen er later sowieso een deel terug."
   ]
  },
  {
   "attachments": {},
   "cell_type": "markdown",
   "metadata": {},
   "source": [
    "Nu kan je in de \"polls-folder\", naast de \"venv-folder\" ook de \"mysite-folder\" zien staan.\n",
    "\n",
    "wanneer je op deze folder klikt, dan krijg zie opnieuw een \"mysite-folder\" en de file \"manage.py\".\n",
    "\n",
    "je kan ook `python manage.py` uitvoeren. Je krijgt dan een lijst met commandos. Al degenen van daarnet met `django-admin` komen terug."
   ]
  },
  {
   "attachments": {},
   "cell_type": "markdown",
   "metadata": {},
   "source": [
    "We openen nu de 1e \"mysite\" in visual code.  (We laten onze venv in de terminal open)"
   ]
  },
  {
   "cell_type": "code",
   "execution_count": null,
   "metadata": {
    "vscode": {
     "languageId": "shellscript"
    }
   },
   "outputs": [],
   "source": [
    "mysite/\n",
    "    manage.py\n",
    "    mysite/\n",
    "        __init__.py\n",
    "        settings.py\n",
    "        urls.py\n",
    "        asgi.py\n",
    "        wsgi.py"
   ]
  },
  {
   "attachments": {},
   "cell_type": "markdown",
   "metadata": {},
   "source": [
    "Hierin zijn de belangrijkste files voor het development proces\n",
    "* `settings.py`\n",
    "* `urls.py`\n",
    "\n",
    "hier komen we sowieso later nog op terug.\n",
    "\n",
    "Nu gaan we eerst onze development server opstarten. \n",
    "Dit doen we in onze terminal. Daar typen we:\n",
    "(waar manage.py staat)"
   ]
  },
  {
   "cell_type": "code",
   "execution_count": null,
   "metadata": {
    "vscode": {
     "languageId": "shellscript"
    }
   },
   "outputs": [],
   "source": [
    "python manage.py runserver"
   ]
  },
  {
   "attachments": {},
   "cell_type": "markdown",
   "metadata": {},
   "source": [
    "Je ziet\n",
    "\n",
    "als je nu in je browser naar `http://127.0.0.1:8000/` gaat zal je zien dat je django project draait.\n",
    "\n",
    "Wat is `http://127.0.0.1` ?  \n",
    "(localhost)\n",
    "(127.0.0.1 == IP)\n",
    "http://localhost:8000/polls/ => werkt ook\n",
    "\n",
    "Wat is `:8000`\n",
    "(poort)\n",
    "\n",
    "je kan je applicatie ook op een een andere poort openen:\n",
    "(eerst `CTRL + C` om de server af te sluiten)"
   ]
  },
  {
   "cell_type": "code",
   "execution_count": null,
   "metadata": {
    "vscode": {
     "languageId": "shellscript"
    }
   },
   "outputs": [],
   "source": [
    "python manage.py runserver 5555"
   ]
  },
  {
   "attachments": {},
   "cell_type": "markdown",
   "metadata": {},
   "source": [
    "Nu kan je je website terugvinden op `http://127.0.0.1:5555/`"
   ]
  },
  {
   "attachments": {},
   "cell_type": "markdown",
   "metadata": {},
   "source": [
    "Deze site draait dus enkel locaal. \n",
    "Je hebt er enkel toegang toe via je eigen PC.\n",
    "\n",
    "je kan het IP adres ook veranderen. "
   ]
  },
  {
   "cell_type": "code",
   "execution_count": null,
   "metadata": {
    "vscode": {
     "languageId": "shellscript"
    }
   },
   "outputs": [],
   "source": [
    "python manage.py runserver 0.0.0.0:5555"
   ]
  },
  {
   "attachments": {},
   "cell_type": "markdown",
   "metadata": {},
   "source": [
    "nu vindt je de website terug op `http://0.0.0.0:5555/`."
   ]
  },
  {
   "cell_type": "markdown",
   "metadata": {},
   "source": [
    "### Server draaien in de background\n",
    "\n",
    "`start /b manage.py runserver`"
   ]
  },
  {
   "attachments": {},
   "cell_type": "markdown",
   "metadata": {},
   "source": [
    "# Create App\n",
    "\n",
    "En App is een onderdeel van je project.\n",
    "Het omhelst een bepaald spoecifiek deel. \n",
    "Het project is de hele website.\n",
    "\n",
    "Voorbeelden van apps: \n",
    "* users\n",
    "* posts\n",
    "* static_pages\n",
    "* payments \n",
    "* ...\n",
    "\n",
    "Wij maken nu de \"polls\" app. \n"
   ]
  },
  {
   "cell_type": "code",
   "execution_count": null,
   "metadata": {
    "vscode": {
     "languageId": "shellscript"
    }
   },
   "outputs": [],
   "source": [
    "python manage.py startapp polls"
   ]
  },
  {
   "attachments": {},
   "cell_type": "markdown",
   "metadata": {},
   "source": [
    "Nu zien we in dezelde directory als `mysite` & `manage.py` ook een nieuwe folder `polls`.\n",
    "\n",
    "Deze heeft de volgende structuur."
   ]
  },
  {
   "cell_type": "code",
   "execution_count": null,
   "metadata": {
    "vscode": {
     "languageId": "shellscript"
    }
   },
   "outputs": [],
   "source": [
    "polls/\n",
    "    __init__.py\n",
    "    admin.py\n",
    "    apps.py\n",
    "    migrations/\n",
    "        __init__.py\n",
    "    models.py\n",
    "    tests.py\n",
    "    views.py"
   ]
  },
  {
   "attachments": {},
   "cell_type": "markdown",
   "metadata": {},
   "source": [
    "# De eerste View\n",
    "\n",
    "open de `views.py` file "
   ]
  },
  {
   "cell_type": "code",
   "execution_count": null,
   "metadata": {},
   "outputs": [],
   "source": [
    "from django.http import HttpResponse\n",
    "\n",
    "def index(request):\n",
    "    return HttpResponse(\"Hello, world !\")\n"
   ]
  },
  {
   "attachments": {},
   "cell_type": "markdown",
   "metadata": {},
   "source": [
    "Wanneer we deze view zullen openen in een browser, zullen we de tekst \"Hello, world !\" zien.\n",
    "\n",
    "Naar welke pagina moeten we gaan om dit te kunnen zien? \n",
    "\n",
    "Deze hebben we nog niet gedefinieerd.\n",
    "\n",
    "Daarvoor moeten we de juiste url naar deze view laten verwijzen. \n",
    "\n",
    "we maken in de polls folder een nieuwe `url.py` file. Hierin zetten we de volgende code:"
   ]
  },
  {
   "cell_type": "code",
   "execution_count": null,
   "metadata": {},
   "outputs": [],
   "source": [
    "from django.urls import path\n",
    "from . import views\n",
    "\n",
    "urlpatterns = [\n",
    "    path(\"\", views.index, name=\"index\")\n",
    "]"
   ]
  },
  {
   "attachments": {},
   "cell_type": "markdown",
   "metadata": {},
   "source": [
    "Hierin zeggen we dus dat wanneer we de url `\"\"` in de browser typen we naar `views.index` moeten kijken om te weten welke data er moet getoont worden.\n",
    "De naam dient om deze url makkelijk aan te roepen vanuit een andere deel van je app. (Later meer)\n",
    "\n",
    "We verwijzen niet naar `http://127.0.0.1:8000/`. \n",
    "\n",
    "We moeten eerst nog de `urls.py` in de folder `mysite` aanpassen.\n",
    "\n",
    "daar staat al:"
   ]
  },
  {
   "cell_type": "code",
   "execution_count": null,
   "metadata": {},
   "outputs": [],
   "source": [
    "from django.contrib import admin\n",
    "from django.urls import path\n",
    "\n",
    "urlpatterns = [\n",
    "    path('admin/', admin.site.urls),\n",
    "]\n"
   ]
  },
  {
   "attachments": {},
   "cell_type": "markdown",
   "metadata": {},
   "source": [
    "we voegen er onze polls urls aan toe:"
   ]
  },
  {
   "cell_type": "code",
   "execution_count": null,
   "metadata": {},
   "outputs": [],
   "source": [
    "from django.contrib import admin\n",
    "from django.urls import path, include\n",
    "\n",
    "urlpatterns = [\n",
    "    path('admin/', admin.site.urls),\n",
    "    path('polls/', include(\"polls.urls\"))\n",
    "]\n"
   ]
  },
  {
   "attachments": {},
   "cell_type": "markdown",
   "metadata": {},
   "source": [
    "Als we nu naar `http://127.0.0.1:8000/polls/` gaan zullen we onze text zien.\n",
    "\n",
    "de url wordt dus samengesteld uit `polls/` en `\"\"` uit beide `urls.py` files."
   ]
  },
  {
   "cell_type": "code",
   "execution_count": null,
   "metadata": {},
   "outputs": [],
   "source": []
  }
 ],
 "metadata": {
  "language_info": {
   "name": "python"
  },
  "orig_nbformat": 4
 },
 "nbformat": 4,
 "nbformat_minor": 2
}
