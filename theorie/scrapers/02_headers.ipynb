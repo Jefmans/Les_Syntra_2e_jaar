{
 "cells": [
  {
   "cell_type": "markdown",
   "metadata": {},
   "source": [
    "# headers\n",
    "\n",
    "In een volgende stap maken we onze \"headers\" aan. \n",
    "\n",
    "Wanneer je met een browser (client) connecteert met een website (server), dan stuur je \"Request Headers\" naar deze server, om deze van meer informatie te voorzien.\n",
    "Het bevat informatie over de browser en het operating system.\n",
    "\n",
    "De server kan dan bepaalde informatie terug sturen. Dit zijn dan de \"Response Headers\".\n",
    "\n",
    "\n",
    "Om een idee te krijgen wat de headers zijn, kan je naar de developer tools gaan. "
   ]
  },
  {
   "cell_type": "markdown",
   "metadata": {},
   "source": [
    "![](images/headers.png)"
   ]
  },
  {
   "cell_type": "markdown",
   "metadata": {},
   "source": [
    "De headers wordt bij elke \"request\" meegegeven. Het overgrote deel gebruikt internet via een browser. \n",
    "\n",
    "Deze headers zullen dan door de browser automatisch worden meegegeven. \n",
    "\n",
    "Bij onze scrapers geven we deze handmatig mee.\n"
   ]
  },
  {
   "cell_type": "markdown",
   "metadata": {},
   "source": [
    "Er bestaan heel veel headers. \n",
    "\n",
    "https://developer.mozilla.org/en-US/docs/Web/HTTP/Headers\n",
    "\n",
    "\n",
    "De \"requests\" library van python respecteert de volgorde van de headers niet, waardoor dat deze gemakkelijk herkent kan worden door servers.  (er is een alternatieve library: \"httpx\", die de volgorde wel respecteert)\n",
    "\n",
    "Volgens de officiële richtlijnen doet de volgorde er in principe niet toe. \n",
    "https://www.rfc-editor.org/rfc/rfc9110.html#name-header-fields\n",
    "\n",
    "Maar het lijkt er wel op dat de headers toch best met een A-Z volgorde worden meegegeven. Beste is te kijken naar je browser en dezelfde volgorde aan te nemen dan deze van de browser die je nabootst. \n",
    "\n",
    "Hiervan zijn er een aantal die je best kan invullen bij het scrapen.\n",
    "Hiermee kan je de kans op succes vergroten. In ieder geval de kans om geblokt te worden verkleinen.\n",
    "\n",
    "* Request Headers\n",
    "    * User-Agent\n",
    "    * Referer\n",
    "    * Accept\n",
    "    * Accept-Language\n",
    "    * Cookie Header\n",
    "    * Accept-Encoding\n"
   ]
  },
  {
   "cell_type": "markdown",
   "metadata": {},
   "source": [
    "## Requests (Python) Headers \n",
    "\n",
    "We kunnen zoals al gezien, de headers te zien krijgen die als 'default' worden meegestuurd wanneer je de requests library gebruikt, door volgende code:"
   ]
  },
  {
   "cell_type": "code",
   "execution_count": 3,
   "metadata": {},
   "outputs": [
    {
     "name": "stdout",
     "output_type": "stream",
     "text": [
      "{'User-Agent': 'python-requests/2.28.1', 'Accept-Encoding': 'gzip, deflate', 'Accept': '*/*', 'Connection': 'keep-alive'}\n"
     ]
    }
   ],
   "source": [
    "import requests\n",
    "\n",
    "base_url = \"https://www.syntra.be\"\n",
    "\n",
    "r = requests.get(base_url)\n",
    "print(r.request.headers)"
   ]
  },
  {
   "cell_type": "markdown",
   "metadata": {},
   "source": [
    "Je ziet dus direct dat als de server de 'User-Agent' zou checken, men onmiddelijk weet dat dit een geautomatiseerde gerbuiker is. \n",
    "\n",
    "Daarom kan het interessant zijn om de headers aan te passen."
   ]
  },
  {
   "cell_type": "markdown",
   "metadata": {},
   "source": [
    "## User-Agent Header\n",
    "\n",
    "Eén van de headers die we als eerste zullen aanmaken is de user-agent. \n",
    "\n",
    "ZOEK MAAR EVEN OP VIA DEVELOPER TOOLS.  WAT ZOU DIT KUNNEN ZIJN ?\n",
    "\n",
    "\n",
    "Dit is in feite informatie over de browser waarmee we op het internet gaan. \n",
    "\n",
    "Je kan deze uit je dev-tools kopiëren:\n",
    "``Mozilla/5.0 (Windows NT 10.0; Win64; x64) AppleWebKit/537.36 (KHTML, like Gecko) Chrome/116.0.0.0 Safari/537.36 OPR/102.0.0.0``\n",
    "\n",
    "Er zijn verschillende User-Agents die we zouden kunnen gebruiken:\n",
    "https://explore.whatismybrowser.com/useragents/explore/\n",
    "\n",
    "\n"
   ]
  },
  {
   "cell_type": "code",
   "execution_count": null,
   "metadata": {},
   "outputs": [],
   "source": [
    "headers = {\n",
    "    'User-Agent' : 'Mozilla/5.0 (Windows NT 10.0; Win64; x64) AppleWebKit/537.36 (KHTML, like Gecko) Chrome/116.0.0.0 Safari/537.36 OPR/102.0.0.0'\n",
    "}"
   ]
  },
  {
   "cell_type": "markdown",
   "metadata": {},
   "source": [
    "Ter info:\n",
    "\n",
    "> When scraping at scale, it isn't good enough just to use real browser headers you need to have hundreds or thousands of headers that you can rotate through as you are making requests.\n",
    "\n",
    "> This is especially important for the User-Agent header, as it is probably the most important header for web scraping as it is the one that says which browser you are using.\n",
    "\n",
    "> You should configure your scraper to rotate through a list of user-agents when scraping.\n",
    "\n",
    "(https://scrapeops.io/web-scraping-playbook/web-scraping-guide-header-user-agents/#ensuring-proper-header-order)"
   ]
  },
  {
   "cell_type": "markdown",
   "metadata": {},
   "source": [
    "## Referer Header\n",
    "\n",
    "Dit duidt op het domain waar we vandaan komen. We kunnen hier bijvoorbeeld \"google.com\" invullen."
   ]
  },
  {
   "cell_type": "code",
   "execution_count": null,
   "metadata": {},
   "outputs": [],
   "source": [
    "headers = {\n",
    "    'Referer' : 'https://www.google.com'\n",
    "}"
   ]
  },
  {
   "cell_type": "markdown",
   "metadata": {},
   "source": [
    "## Accept Header\n",
    "\n",
    "De accept header geeft weer welke type response we als client van de server verwachten te krijgen.\n",
    "\n",
    "Deze type worden MIME types genoemd. (zoals .pdf, .txt, ....) \n",
    "https://developer.mozilla.org/en-US/docs/Web/HTTP/Basics_of_HTTP/MIME_types/Common_types\n",
    "\n",
    "Deze kan verschillen per browser. \n",
    "* Firefox\n",
    "    * text/html,application/xhtml+xml,application/xml;q=0.9,image/avif,image/webp,*/*;q=0.8\n",
    "* Chrome\n",
    "    * text/html,application/xhtml+xml,application/xml;q=0.9,image/avif,image/webp,image/apng,*/*;q=0.8,application/signed-exchange;v=b3;q=0.9\n",
    "\n",
    "\n",
    "Als we naar onze browser kijken, dan vinden we:\n",
    "`text/html,application/xhtml+xml,application/xml;q=0.9,image/avif,image/webp,image/apng,*/*;q=0.8,application/signed-exchange;v=b3;q=0.7`"
   ]
  },
  {
   "cell_type": "code",
   "execution_count": null,
   "metadata": {},
   "outputs": [],
   "source": [
    "headers = {\n",
    "    'Accept' : 'text/html,application/xhtml+xml,application/xml;q=0.9,image/avif,image/webp,image/apng,*/*;q=0.8,application/signed-exchange;v=b3;q=0.7'\n",
    "}"
   ]
  },
  {
   "cell_type": "markdown",
   "metadata": {},
   "source": [
    "## Accept-Language Header\n",
    "\n",
    "Deze header wordt gebruikt om de voorkeurs-taal van de de client weer te geven.\n",
    "Op basis hiervan kan de server de juiste taal aanreiken. Maar deze hoeft dit niet te doen.\n",
    "Dus de keuze blijft bij de server.\n",
    "\n",
    "Je kan verschillende talen toevoegen. De volgorde bepaald welke taal je verkiest. De eerste in de lijst wordt eerst gecheckt enzovoort...\n",
    "\n",
    "Daarnaast kan je ook nog een \"q=<x>\" toevoegen, waarbij <x> een getal tussen 0 en 1 is. Deze geeft een voorkeur aan de talen.\n",
    "\n",
    "https://localizely.com/blog/accept-language-header/\n",
    "\n",
    "\n",
    "\n",
    "Mogelijk talen zijn: \n",
    "https://www.w3.org/International/ms-lang.html"
   ]
  },
  {
   "cell_type": "code",
   "execution_count": null,
   "metadata": {},
   "outputs": [],
   "source": [
    "headers = {\n",
    "    'Accept-Language' : 'nl-be, en;q=0.9, fr;q=0.8, en-US;q=0.7'\n",
    "}"
   ]
  },
  {
   "cell_type": "markdown",
   "metadata": {},
   "source": [
    "De header hierboven zegt dus dat we \"Belgisch Nederlands\" als eerste taal willen.\n",
    "\n",
    "Daarna willen we \"algemeen Engels\" en \"algemeen Frans\".\n",
    "\n",
    "En tenslotte willen we \"Amerikaans Engels\"."
   ]
  },
  {
   "cell_type": "markdown",
   "metadata": {},
   "source": [
    "## Accept-Encoding Header\n",
    "\n",
    "Deze geeft aan welk compressie formaat je wil (laten) hanteren wanneer je request wordt behandeld.\n",
    "\n",
    "Hieronder zien we de formaten waarbij 'br' staat voor het nieuwste 'brotli' formaat. Omdat scrapers dit wel eens vergeten wordt dit gebruikt om scrapers te identificeren.\n",
    "\n",
    "https://developer.mozilla.org/en-US/docs/Glossary/brotli_compression"
   ]
  },
  {
   "cell_type": "code",
   "execution_count": null,
   "metadata": {},
   "outputs": [],
   "source": [
    "headers = {\n",
    "    'Accept-Encoding' : 'gzip, deflate, br'\n",
    "}"
   ]
  },
  {
   "cell_type": "markdown",
   "metadata": {},
   "source": [
    "## Sec-Fetch Headers\n",
    "\n",
    "Deze headers voorzien informatie over de security details van een request.\n",
    "\n",
    "Wanneer je deze niet meegeeft of foutief, kan dit op sommige websites leiden tot gebblockt worden.\n",
    "\n",
    "\n",
    "* Sec-Fetch-Mode\n",
    "    * deze geeft de 'navigatie' oorsprong van de request.\n",
    "    * Best om deze op 'navigate' te zetten for directe requests (de eerste maal je scraper op de site komt)\n",
    "    * En op 'same-origin' of 'cors' voor dynamische requests (van op de pagina zelf)\n",
    "* Sec-Fetch-Site\n",
    "    * geeft de oorsprong van de request\n",
    "    * 'none' voor directe requests\n",
    "    * 'same-site' voor dynamische data requests (bv. XHR-types)\n",
    "* Sec-Fetch-Dest\n",
    "    * geeft het gevraagde document type\n",
    "    * 'document' voor directe\n",
    "    * LEEG voor dynamische\n",
    "\n",
    "\n",
    "Wanneer ik in de 'dev tools' de 'headers' check bij 'www.syntra.be' vind ik volgende setting:"
   ]
  },
  {
   "cell_type": "code",
   "execution_count": null,
   "metadata": {},
   "outputs": [],
   "source": [
    "headers = {\n",
    "    'Sec-Fetch-Mode' : 'navigate',\n",
    "    'Sec-Fetch-Site' : 'cross-site',\n",
    "    'Sec-Fetch-Dest' : 'document'\n",
    "}"
   ]
  },
  {
   "cell_type": "markdown",
   "metadata": {},
   "source": [
    "## Upgrade-Insecure-Requests\n",
    "\n",
    "Deze header vraagt de server om te antwoorden met een response te encrypteren.\n",
    "\n",
    "Soms kan het helpen om deze af te zetten ('0')."
   ]
  },
  {
   "cell_type": "code",
   "execution_count": null,
   "metadata": {},
   "outputs": [],
   "source": [
    "headers = {\n",
    "    'Upgrade-Insecure-Requests' : '1'\n",
    "}"
   ]
  },
  {
   "cell_type": "markdown",
   "metadata": {},
   "source": [
    "## Wrap-Up"
   ]
  },
  {
   "cell_type": "code",
   "execution_count": null,
   "metadata": {},
   "outputs": [],
   "source": [
    "headers = {\n",
    "    'User-Agent' : 'Mozilla/5.0 (Windows NT 10.0; Win64; x64) AppleWebKit/537.36 (KHTML, like Gecko) Chrome/116.0.0.0 Safari/537.36 OPR/102.0.0.0',\n",
    "    'Referer' : 'https://www.google.com',\n",
    "    'Accept' : 'text/html,application/xhtml+xml,application/xml;q=0.9,image/avif,image/webp,image/apng,*/*;q=0.8,application/signed-exchange;v=b3;q=0.7',\n",
    "    'Accept-Language' : 'nl-be, en;q=0.9, fr;q=0.8, en-US;q=0.7',\n",
    "    'Accept-Encoding' : 'gzip, deflate, br',\n",
    "    'Sec-Fetch-Mode' : 'navigate',\n",
    "    'Sec-Fetch-Site' : 'cross-site',\n",
    "    'Sec-Fetch-Dest' : 'document',\n",
    "    'Upgrade-Insecure-Requests' : '1'\n",
    "}"
   ]
  },
  {
   "cell_type": "code",
   "execution_count": 9,
   "metadata": {},
   "outputs": [
    {
     "name": "stdout",
     "output_type": "stream",
     "text": [
      "{'User-Agent': 'Mozilla/5.0 (Windows NT 10.0; Win64; x64) AppleWebKit/537.36 (KHTML, like Gecko) Chrome/116.0.0.0 Safari/537.36 OPR/102.0.0.0', 'Accept-Encoding': 'gzip, deflate, br', 'Accept': 'text/html,application/xhtml+xml,application/xml;q=0.9,image/avif,image/webp,image/apng,*/*;q=0.8,application/signed-exchange;v=b3;q=0.7', 'Connection': 'keep-alive', 'Referer': 'https://www.google.com', 'Accept-Language': 'nl-be, en;q=0.9, fr;q=0.8, en-US;q=0.7', 'Sec-Fetch-Mode': 'navigate', 'Sec-Fetch-Site': 'cross-site', 'Sec-Fetch-Dest': 'document', 'Upgrade-Insecure-Requests': '1'}\n",
      "User-Agent  :  Mozilla/5.0 (Windows NT 10.0; Win64; x64) AppleWebKit/537.36 (KHTML, like Gecko) Chrome/116.0.0.0 Safari/537.36 OPR/102.0.0.0\n",
      "Accept-Encoding  :  gzip, deflate, br\n",
      "Accept  :  text/html,application/xhtml+xml,application/xml;q=0.9,image/avif,image/webp,image/apng,*/*;q=0.8,application/signed-exchange;v=b3;q=0.7\n",
      "Connection  :  keep-alive\n",
      "Referer  :  https://www.google.com\n",
      "Accept-Language  :  nl-be, en;q=0.9, fr;q=0.8, en-US;q=0.7\n",
      "Sec-Fetch-Mode  :  navigate\n",
      "Sec-Fetch-Site  :  cross-site\n",
      "Sec-Fetch-Dest  :  document\n",
      "Upgrade-Insecure-Requests  :  1\n"
     ]
    }
   ],
   "source": [
    "import requests\n",
    "\n",
    "base_url = \"https://www.syntra.be\"\n",
    "\n",
    "headers = {\n",
    "    'User-Agent' : 'Mozilla/5.0 (Windows NT 10.0; Win64; x64) AppleWebKit/537.36 (KHTML, like Gecko) Chrome/116.0.0.0 Safari/537.36 OPR/102.0.0.0',\n",
    "    'Referer' : 'https://www.google.com',\n",
    "    'Accept' : 'text/html,application/xhtml+xml,application/xml;q=0.9,image/avif,image/webp,image/apng,*/*;q=0.8,application/signed-exchange;v=b3;q=0.7',\n",
    "    'Accept-Language' : 'nl-be, en;q=0.9, fr;q=0.8, en-US;q=0.7',\n",
    "    'Accept-Encoding' : 'gzip, deflate, br',\n",
    "    'Sec-Fetch-Mode' : 'navigate',\n",
    "    'Sec-Fetch-Site' : 'cross-site',\n",
    "    'Sec-Fetch-Dest' : 'document',\n",
    "    'Upgrade-Insecure-Requests' : '1'\n",
    "}\n",
    "\n",
    "r = requests.get(base_url, headers=headers)\n",
    "\n",
    "print(r.request.headers)\n",
    "\n",
    "# for header, value in r.request.headers.items():\n",
    "#     print(header, ' : ', value)"
   ]
  },
  {
   "cell_type": "markdown",
   "metadata": {},
   "source": [
    "# Cookies\n",
    "\n",
    "Ook cookies worden meegegeven met de headers.\n",
    "Vele web-pagina's gebruiken cookies, om \"session history\" bij te houden. \n",
    "Daarom dat verschillende webscrapers, voordat ze beginnen, eerst verschillende algemene pagina's van de website bezoeken. Op deze manier verzamelen ze de benodigde cookies. \n",
    "Zo lijkt hun gedrag natuurlijk dan verwacht.\n",
    "\n",
    "\n",
    "Het kan ook nodig zijn ol de cookie string aan te passen naar een formaat dat hetzelfde is als in de browser.\n"
   ]
  },
  {
   "cell_type": "markdown",
   "metadata": {},
   "source": [
    "# Developer tools \n",
    "\n",
    "We hebben het al een aantal keer aangehaald, maar developer tools geven een supergoede houvast om de juiste headers mee te geven.\n",
    "\n",
    "Gebruikt deze om al de headers mee te geven. Het kan zeker geen kwaad om meer headers dan degene die we hierboven hebben beschreven mee te geven.\n",
    "\n",
    "Het is ook een goede manier om zeker te zijn dat je de juiste combinatie van headers hebt meegegeven. Want deze kan verschillen tussen een Chrome, Firefox of Opera.\n",
    "\n"
   ]
  },
  {
   "cell_type": "markdown",
   "metadata": {},
   "source": [
    "# Rotatie van User-Agent\n",
    "\n",
    "Wanneer je veel zou willen scrapen, is het waarschijnlijk nodig om met verschillende \"user agents\" te werken.\n",
    "\n"
   ]
  },
  {
   "cell_type": "code",
   "execution_count": 10,
   "metadata": {},
   "outputs": [
    {
     "name": "stdout",
     "output_type": "stream",
     "text": [
      "Mozilla/5.0 (Windows NT 10.0; Win64; x64) AppleWebKit/537.36 (KHTML, like Gecko) Chrome/111.0.0.0 Safari/537.36\n",
      "Mozilla/5.0 (Windows NT 10.0; Win64; x64) AppleWebKit/537.36 (KHTML, like Gecko) Chrome/112.0.0.0 Safari/537.36\n",
      "Mozilla/5.0 (Windows NT 10.0; Win64; x64) AppleWebKit/537.36 (KHTML, like Gecko) Chrome/109.0.0.0 Safari/537.36\n",
      "Mozilla/5.0 (Macintosh; Intel Mac OS X 10_15_7) AppleWebKit/537.36 (KHTML, like Gecko) Chrome/111.0.0.0 Safari/537.36\n",
      "Mozilla/5.0 (Windows NT 10.0; Win64; x64) AppleWebKit/537.36 (KHTML, like Gecko) Chrome/111.0.0.0 Safari/537.36\n",
      "Mozilla/5.0 (Windows NT 10.0; Win64; x64) AppleWebKit/537.36 (KHTML, like Gecko) Chrome/112.0.0.0 Safari/537.36\n",
      "Mozilla/5.0 (Windows NT 10.0; Win64; x64) AppleWebKit/537.36 (KHTML, like Gecko) Chrome/109.0.0.0 Safari/537.36\n",
      "Mozilla/5.0 (Macintosh; Intel Mac OS X 10_15_7) AppleWebKit/537.36 (KHTML, like Gecko) Chrome/111.0.0.0 Safari/537.36\n",
      "Mozilla/5.0 (Windows NT 10.0; Win64; x64) AppleWebKit/537.36 (KHTML, like Gecko) Chrome/111.0.0.0 Safari/537.36\n",
      "Mozilla/5.0 (Windows NT 10.0; Win64; x64) AppleWebKit/537.36 (KHTML, like Gecko) Chrome/112.0.0.0 Safari/537.36\n"
     ]
    }
   ],
   "source": [
    "import requests\n",
    "import itertools\n",
    "user_agents = [\n",
    "    \"Mozilla/5.0 (Windows NT 10.0; Win64; x64) AppleWebKit/537.36 (KHTML, like Gecko) Chrome/111.0.0.0 Safari/537.36\",\n",
    "    \"Mozilla/5.0 (Windows NT 10.0; Win64; x64) AppleWebKit/537.36 (KHTML, like Gecko) Chrome/112.0.0.0 Safari/537.36\",\n",
    "    \"Mozilla/5.0 (Windows NT 10.0; Win64; x64) AppleWebKit/537.36 (KHTML, like Gecko) Chrome/109.0.0.0 Safari/537.36\",\n",
    "    \"Mozilla/5.0 (Macintosh; Intel Mac OS X 10_15_7) AppleWebKit/537.36 (KHTML, like Gecko) Chrome/111.0.0.0 Safari/537.36\"\n",
    "]\n",
    "ua_cycle = itertools.cycle(user_agents)\n",
    "\n",
    "for i in range(10):\n",
    "    headers = {\"User-Agent\": next(ua_cycle)}\n",
    "    response = requests.get(\"https://httpbin.org/headers\", headers=headers)\n",
    "    print(response.json()[\"headers\"][\"User-Agent\"])"
   ]
  },
  {
   "cell_type": "markdown",
   "metadata": {},
   "source": [
    "###"
   ]
  },
  {
   "cell_type": "markdown",
   "metadata": {},
   "source": [
    "# Meer headers:\n",
    "\n",
    "sec-ch-ua: \"Chromium\";v=\"112\", \"Google Chrome\";v=\"112\", \"Not:A-Brand\";v=\"99\"\n",
    "sec-ch-ua-arch: \"x86\"\n",
    "sec-ch-ua-bitness: \"64\"\n",
    "sec-ch-ua-full-version: \"112.0.5615.165\"\n",
    "sec-ch-ua-full-version-list: \"Chromium\";v=\"112.0.5615.165\", \"Google Chrome\";v=\"112.0.5615.165\", \"Not:A-Brand\";v=\"99.0.0.0\"\n",
    "sec-ch-ua-mobile: ?0\n",
    "sec-ch-ua-model: \"\"\n",
    "sec-ch-ua-platform: \"Linux\"\n",
    "sec-ch-ua-platform-version: \"5.14.0\"\n",
    "sec-ch-ua-wow64: ?0\n",
    "sec-fetch-dest: document\n",
    "sec-fetch-mode: navigate\n",
    "sec-fetch-site: none\n",
    "sec-fetch-user: ?1\n",
    "user-agent: Mozilla/5.0 (X11; Linux x86_64) AppleWebKit/537.36 (KHTML, like Gecko) Chrome/112.0.0.0 Safari/537.36\n"
   ]
  },
  {
   "cell_type": "code",
   "execution_count": null,
   "metadata": {},
   "outputs": [],
   "source": []
  }
 ],
 "metadata": {
  "kernelspec": {
   "display_name": "venv",
   "language": "python",
   "name": "python3"
  },
  "language_info": {
   "codemirror_mode": {
    "name": "ipython",
    "version": 3
   },
   "file_extension": ".py",
   "mimetype": "text/x-python",
   "name": "python",
   "nbconvert_exporter": "python",
   "pygments_lexer": "ipython3",
   "version": "3.10.7"
  }
 },
 "nbformat": 4,
 "nbformat_minor": 2
}
