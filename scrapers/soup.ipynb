{
 "cells": [
  {
   "cell_type": "code",
   "execution_count": null,
   "metadata": {},
   "outputs": [],
   "source": [
    "import requests\n",
    "from bs4 import BeautifulSoup, Script\n",
    "\n",
    "\n",
    "base_url = \"https://www.syntra.be\"\n",
    "\n",
    "\n",
    "r = requests.get(base_url)\n",
    "soup = BeautifulSoup(r.text, 'html.parser')"
   ]
  },
  {
   "cell_type": "code",
   "execution_count": null,
   "metadata": {},
   "outputs": [],
   "source": [
    "title = soup.find('title')\n",
    "\n",
    "print(title)\n",
    "print(title.text)"
   ]
  },
  {
   "cell_type": "code",
   "execution_count": null,
   "metadata": {},
   "outputs": [],
   "source": [
    "body = soup.find('body')\n",
    "print(body.prettify())"
   ]
  },
  {
   "cell_type": "code",
   "execution_count": null,
   "metadata": {},
   "outputs": [],
   "source": [
    "list_item = soup.find('li')\n",
    "print(list_item)"
   ]
  },
  {
   "cell_type": "code",
   "execution_count": null,
   "metadata": {},
   "outputs": [],
   "source": [
    "soup.li"
   ]
  },
  {
   "cell_type": "code",
   "execution_count": null,
   "metadata": {},
   "outputs": [],
   "source": [
    "first_list_item = soup.li\n",
    "\n",
    "first_list_item.name = 'my_first_list_item'"
   ]
  },
  {
   "cell_type": "code",
   "execution_count": null,
   "metadata": {},
   "outputs": [],
   "source": [
    "first_list_item"
   ]
  },
  {
   "cell_type": "code",
   "execution_count": null,
   "metadata": {},
   "outputs": [],
   "source": [
    "first_list_item.attrs"
   ]
  },
  {
   "cell_type": "code",
   "execution_count": null,
   "metadata": {},
   "outputs": [],
   "source": [
    "first_link = soup.a\n",
    "\n",
    "print(first_link)\n",
    "print(first_link.attrs)"
   ]
  },
  {
   "cell_type": "code",
   "execution_count": null,
   "metadata": {},
   "outputs": [],
   "source": [
    "print(first_link['class'])\n",
    "print(first_link['href'])"
   ]
  },
  {
   "cell_type": "code",
   "execution_count": null,
   "metadata": {},
   "outputs": [],
   "source": [
    "type(first_link.string)"
   ]
  },
  {
   "cell_type": "code",
   "execution_count": null,
   "metadata": {},
   "outputs": [],
   "source": [
    "first_link_of_main = soup.main.a\n",
    "\n",
    "print(first_link_of_main)"
   ]
  },
  {
   "cell_type": "code",
   "execution_count": null,
   "metadata": {},
   "outputs": [],
   "source": [
    "menu = soup.body.nav.ul\n",
    "\n",
    "print(menu.prettify())"
   ]
  },
  {
   "cell_type": "code",
   "execution_count": null,
   "metadata": {},
   "outputs": [],
   "source": [
    "content_of_menu = menu.contents\n",
    "\n",
    "print(content_of_menu)\n"
   ]
  },
  {
   "cell_type": "code",
   "execution_count": 64,
   "metadata": {},
   "outputs": [
    {
     "name": "stdout",
     "output_type": "stream",
     "text": [
      "<my_first_list_item class=\"menu-item menu-item-type-post_type menu-item-object-page menu-item-home current-menu-item page_item page-item-10 current_page_item menu-item-54\"><a aria-current=\"page\" class=\"elementor-item elementor-item-active\" href=\"https://www.syntra.be/\">Home</a></my_first_list_item>\n",
      "-------\n",
      "\n",
      "\n",
      "-------\n",
      "<li class=\"menu-opleidingen menu-item menu-item-type-post_type menu-item-object-page menu-item-has-children menu-item-499\"><a class=\"elementor-item\" href=\"https://www.syntra.be/opleidingen/\">Opleidingen</a>\n",
      "<ul class=\"sub-menu elementor-nav-menu--dropdown\">\n",
      "<li class=\"menu-item menu-item-type-post_type menu-item-object-page menu-item-503\"><a class=\"elementor-sub-item\" href=\"https://www.syntra.be/opleidingen/voltijdse-dagopleidingen/\">Voltijdse dagopleidingen</a></li>\n",
      "<li class=\"menu-item menu-item-type-post_type menu-item-object-page menu-item-502\"><a class=\"elementor-sub-item\" href=\"https://www.syntra.be/opleidingen/lange-en-korte-opleidingen/\">Lange en korte opleidingen</a></li>\n",
      "<li class=\"menu-item menu-item-type-post_type menu-item-object-page menu-item-500\"><a class=\"elementor-sub-item\" href=\"https://www.syntra.be/opleidingen/duaal-leren/\">Duaal leren</a></li>\n",
      "<li class=\"menu-item menu-item-type-post_type menu-item-object-page menu-item-501\"><a class=\"elementor-sub-item\" href=\"https://www.syntra.be/opleidingen/bedrijfsopleidingen/\">Bedrijfsopleidingen</a></li>\n",
      "<li class=\"menu-item menu-item-type-post_type menu-item-object-page menu-item-8423\"><a class=\"elementor-sub-item\" href=\"https://www.syntra.be/opleidingen/leerjobs/\">Leerjobs</a></li>\n",
      "</ul>\n",
      "</li>\n",
      "-------\n",
      "\n",
      "\n",
      "-------\n",
      "<li class=\"menu-item menu-item-type-post_type menu-item-object-page menu-item-56\"><a class=\"elementor-item\" href=\"https://www.syntra.be/dossiers/\">Dossiers</a></li>\n",
      "-------\n",
      "\n",
      "\n",
      "-------\n",
      "<li class=\"menu-nieuws menu-item menu-item-type-post_type menu-item-object-page menu-item-58\"><a class=\"elementor-item\" href=\"https://www.syntra.be/nieuws/\">Nieuws</a></li>\n",
      "-------\n",
      "\n",
      "\n",
      "-------\n",
      "<li class=\"menu-item menu-item-type-post_type menu-item-object-page menu-item-has-children menu-item-57\"><a class=\"elementor-item\" href=\"https://www.syntra.be/over-syntra/\">Over SYNTRA</a>\n",
      "<ul class=\"sub-menu elementor-nav-menu--dropdown\">\n",
      "<li class=\"menu-item menu-item-type-post_type menu-item-object-page menu-item-8259\"><a class=\"elementor-sub-item\" href=\"https://www.syntra.be/over-syntra/syntra-faq/\">SYNTRA FAQ</a></li>\n",
      "<li class=\"menu-item menu-item-type-post_type menu-item-object-page menu-item-8194\"><a class=\"elementor-sub-item\" href=\"https://www.syntra.be/over-syntra/over-syntrum/\">Over SYNTRUM</a></li>\n",
      "<li class=\"menu-item menu-item-type-post_type menu-item-object-page menu-item-8260\"><a class=\"elementor-sub-item\" href=\"https://www.syntra.be/over-syntra/getuigenissen/\">Getuigenissen</a></li>\n",
      "</ul>\n",
      "</li>\n",
      "-------\n",
      "\n",
      "\n",
      "-------\n",
      "<li class=\"menu-item menu-item-type-custom menu-item-object-custom menu-item-319\"><a class=\"elementor-item elementor-item-anchor\" href=\"#contact\">Contact</a></li>\n",
      "-------\n",
      "\n",
      "\n",
      "-------\n"
     ]
    }
   ],
   "source": [
    "for content in content_of_menu:\n",
    "    print(content)\n",
    "    print('-------')"
   ]
  },
  {
   "cell_type": "code",
   "execution_count": 63,
   "metadata": {},
   "outputs": [
    {
     "name": "stdout",
     "output_type": "stream",
     "text": [
      "<my_first_list_item class=\"menu-item menu-item-type-post_type menu-item-object-page menu-item-home current-menu-item page_item page-item-10 current_page_item menu-item-54\"><a aria-current=\"page\" class=\"elementor-item elementor-item-active\" href=\"https://www.syntra.be/\">Home</a></my_first_list_item>\n",
      "--------------\n",
      "\n",
      "\n",
      "--------------\n",
      "<li class=\"menu-opleidingen menu-item menu-item-type-post_type menu-item-object-page menu-item-has-children menu-item-499\"><a class=\"elementor-item\" href=\"https://www.syntra.be/opleidingen/\">Opleidingen</a>\n",
      "<ul class=\"sub-menu elementor-nav-menu--dropdown\">\n",
      "<li class=\"menu-item menu-item-type-post_type menu-item-object-page menu-item-503\"><a class=\"elementor-sub-item\" href=\"https://www.syntra.be/opleidingen/voltijdse-dagopleidingen/\">Voltijdse dagopleidingen</a></li>\n",
      "<li class=\"menu-item menu-item-type-post_type menu-item-object-page menu-item-502\"><a class=\"elementor-sub-item\" href=\"https://www.syntra.be/opleidingen/lange-en-korte-opleidingen/\">Lange en korte opleidingen</a></li>\n",
      "<li class=\"menu-item menu-item-type-post_type menu-item-object-page menu-item-500\"><a class=\"elementor-sub-item\" href=\"https://www.syntra.be/opleidingen/duaal-leren/\">Duaal leren</a></li>\n",
      "<li class=\"menu-item menu-item-type-post_type menu-item-object-page menu-item-501\"><a class=\"elementor-sub-item\" href=\"https://www.syntra.be/opleidingen/bedrijfsopleidingen/\">Bedrijfsopleidingen</a></li>\n",
      "<li class=\"menu-item menu-item-type-post_type menu-item-object-page menu-item-8423\"><a class=\"elementor-sub-item\" href=\"https://www.syntra.be/opleidingen/leerjobs/\">Leerjobs</a></li>\n",
      "</ul>\n",
      "</li>\n",
      "--------------\n",
      "\n",
      "\n",
      "--------------\n",
      "<li class=\"menu-item menu-item-type-post_type menu-item-object-page menu-item-56\"><a class=\"elementor-item\" href=\"https://www.syntra.be/dossiers/\">Dossiers</a></li>\n",
      "--------------\n",
      "\n",
      "\n",
      "--------------\n",
      "<li class=\"menu-nieuws menu-item menu-item-type-post_type menu-item-object-page menu-item-58\"><a class=\"elementor-item\" href=\"https://www.syntra.be/nieuws/\">Nieuws</a></li>\n",
      "--------------\n",
      "\n",
      "\n",
      "--------------\n",
      "<li class=\"menu-item menu-item-type-post_type menu-item-object-page menu-item-has-children menu-item-57\"><a class=\"elementor-item\" href=\"https://www.syntra.be/over-syntra/\">Over SYNTRA</a>\n",
      "<ul class=\"sub-menu elementor-nav-menu--dropdown\">\n",
      "<li class=\"menu-item menu-item-type-post_type menu-item-object-page menu-item-8259\"><a class=\"elementor-sub-item\" href=\"https://www.syntra.be/over-syntra/syntra-faq/\">SYNTRA FAQ</a></li>\n",
      "<li class=\"menu-item menu-item-type-post_type menu-item-object-page menu-item-8194\"><a class=\"elementor-sub-item\" href=\"https://www.syntra.be/over-syntra/over-syntrum/\">Over SYNTRUM</a></li>\n",
      "<li class=\"menu-item menu-item-type-post_type menu-item-object-page menu-item-8260\"><a class=\"elementor-sub-item\" href=\"https://www.syntra.be/over-syntra/getuigenissen/\">Getuigenissen</a></li>\n",
      "</ul>\n",
      "</li>\n",
      "--------------\n",
      "\n",
      "\n",
      "--------------\n",
      "<li class=\"menu-item menu-item-type-custom menu-item-object-custom menu-item-319\"><a class=\"elementor-item elementor-item-anchor\" href=\"#contact\">Contact</a></li>\n",
      "--------------\n",
      "\n",
      "\n",
      "--------------\n"
     ]
    }
   ],
   "source": [
    "for child in menu.children:\n",
    "    print(child)\n",
    "    print('--------------')"
   ]
  },
  {
   "cell_type": "code",
   "execution_count": 65,
   "metadata": {},
   "outputs": [
    {
     "data": {
      "text/plain": [
       "<list_iterator at 0x256a727b6a0>"
      ]
     },
     "execution_count": 65,
     "metadata": {},
     "output_type": "execute_result"
    }
   ],
   "source": [
    "for child in soup.nav.children:\n",
    "    print(child)\n",
    "    print('-------------------')"
   ]
  }
 ],
 "metadata": {
  "kernelspec": {
   "display_name": "venv",
   "language": "python",
   "name": "python3"
  },
  "language_info": {
   "codemirror_mode": {
    "name": "ipython",
    "version": 3
   },
   "file_extension": ".py",
   "mimetype": "text/x-python",
   "name": "python",
   "nbconvert_exporter": "python",
   "pygments_lexer": "ipython3",
   "version": "3.10.7"
  }
 },
 "nbformat": 4,
 "nbformat_minor": 2
}
