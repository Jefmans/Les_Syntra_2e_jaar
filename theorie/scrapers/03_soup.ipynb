{
 "cells": [
  {
   "cell_type": "markdown",
   "metadata": {},
   "source": [
    "# BeautifulSoup\n",
    "\n",
    "Nu gaan we BeautifulSoup gebruiken om de html-pagina te doorzoeken naar interessante informatie.\n",
    "\n",
    "We gaan opnieuw naar de syntra home pagina. En we lezen onze html in soup."
   ]
  },
  {
   "cell_type": "code",
   "execution_count": null,
   "metadata": {},
   "outputs": [],
   "source": [
    "import requests\n",
    "from bs4 import BeautifulSoup, Script\n",
    "\n",
    "\n",
    "base_url = \"https://www.syntra.be\"\n",
    "\n",
    "\n",
    "r = requests.get(base_url)\n",
    "soup = BeautifulSoup(r.text, 'html.parser')\n"
   ]
  },
  {
   "cell_type": "markdown",
   "metadata": {},
   "source": [
    "## find()\n",
    "\n",
    "Een eerste methode die we kunnen gebruiken, is `find()`. Deze kan je gerbuiken als je op zoek bent naar een element dat slechts 1 maal voorkomt in de html text."
   ]
  },
  {
   "cell_type": "code",
   "execution_count": null,
   "metadata": {},
   "outputs": [],
   "source": [
    "title = soup.find('title')\n",
    "print(title)\n",
    "print(title.text)"
   ]
  },
  {
   "cell_type": "code",
   "execution_count": null,
   "metadata": {},
   "outputs": [],
   "source": [
    "body = soup.find('body')\n",
    "print(body.prettify())"
   ]
  },
  {
   "cell_type": "code",
   "execution_count": null,
   "metadata": {},
   "outputs": [],
   "source": [
    "main = soup.find('main')\n",
    "print(main.prettify())"
   ]
  },
  {
   "cell_type": "markdown",
   "metadata": {},
   "source": [
    "Wanneer je een element, dat meerdere malen voorkomt, met 'find()' zoekt, dan zal enkel het eerste element worden opgehaald."
   ]
  },
  {
   "cell_type": "code",
   "execution_count": null,
   "metadata": {},
   "outputs": [],
   "source": [
    "list_items = soup.find('li')\n",
    "print(list_items)"
   ]
  },
  {
   "cell_type": "markdown",
   "metadata": {},
   "source": [
    "## Tag\n",
    "\n",
    "Je kan de html-elementen ook op een andere manier ophalen.\n"
   ]
  },
  {
   "cell_type": "code",
   "execution_count": null,
   "metadata": {},
   "outputs": [],
   "source": [
    "first_list_item = soup.li\n",
    "print(first_list_item)"
   ]
  },
  {
   "cell_type": "markdown",
   "metadata": {},
   "source": [
    "`first_list_item` is een 'Tag' object.\n",
    "\n",
    "Elk Tag-object heeft een naam."
   ]
  },
  {
   "cell_type": "code",
   "execution_count": null,
   "metadata": {},
   "outputs": [],
   "source": [
    "print(first_list_item.name)"
   ]
  },
  {
   "cell_type": "markdown",
   "metadata": {},
   "source": [
    "je kan deze naam veranderen.\n",
    "\n",
    "je ziet ook dat het element zelf veranderd is."
   ]
  },
  {
   "cell_type": "code",
   "execution_count": null,
   "metadata": {},
   "outputs": [],
   "source": [
    "first_list_item.name = 'my_first_list_item'\n",
    "print(first_list_item.name)\n",
    "print(first_list_item)"
   ]
  },
  {
   "cell_type": "markdown",
   "metadata": {},
   "source": [
    "Met `attrs` krijg je alle verschillende attributen die binnen het html-element staan."
   ]
  },
  {
   "cell_type": "code",
   "execution_count": null,
   "metadata": {},
   "outputs": [],
   "source": [
    "first_list_item.attrs"
   ]
  },
  {
   "cell_type": "markdown",
   "metadata": {},
   "source": [
    "We krijgen een dictionary waarin de verschillende attributen staan. \n",
    "\n",
    "In het gevak van ons eerste 'li' element zijn dit enkel classes.\n",
    "\n",
    "gaan daarom een a element zoeken."
   ]
  },
  {
   "cell_type": "code",
   "execution_count": null,
   "metadata": {},
   "outputs": [],
   "source": [
    "first_link = soup.a\n",
    "\n",
    "print(first_link)\n",
    "print(first_link.attrs)"
   ]
  },
  {
   "cell_type": "markdown",
   "metadata": {},
   "source": [
    "We kunnen elk attribuut van dit element aanroepen zoals met een dictionary.\n",
    "\n",
    "Wie vindt deze 'link' terug op de pagina ?\n",
    "wie weet wat de `#content` wil zeggen ? "
   ]
  },
  {
   "cell_type": "code",
   "execution_count": null,
   "metadata": {},
   "outputs": [],
   "source": [
    "print(first_link['class'])\n",
    "print('------------------')\n",
    "print(first_link['href'])"
   ]
  },
  {
   "cell_type": "markdown",
   "metadata": {},
   "source": [
    "## NavigableString\n",
    "\n",
    "Binnen BeautifulSoup wordt alle text binnen een element bij gehouden in de 'NavigableString'.\n",
    "\n",
    "Je kan deze gemakkelijk bekomen op volgende manier:\n"
   ]
  },
  {
   "cell_type": "code",
   "execution_count": null,
   "metadata": {},
   "outputs": [],
   "source": [
    "print(first_link.string)"
   ]
  },
  {
   "cell_type": "markdown",
   "metadata": {},
   "source": [
    "# Navigating the tree\n",
    "\n",
    "Met BeautifulSoup kunnen we makkelijk door de 'boomstructuur' van de html-file navigeren.\n",
    "\n",
    "dit kan door verschillende 'tags' na elkaar te gebruiken."
   ]
  },
  {
   "cell_type": "code",
   "execution_count": null,
   "metadata": {},
   "outputs": [],
   "source": [
    "first_link_of_main = soup.body.main.a\n",
    "print(first_link_of_main)"
   ]
  },
  {
   "cell_type": "code",
   "execution_count": null,
   "metadata": {},
   "outputs": [],
   "source": [
    "soup.head.link"
   ]
  },
  {
   "cell_type": "markdown",
   "metadata": {},
   "source": [
    "## .contents & .children\n",
    "\n",
    "We zullen nu alle <li>-elementen uit het (navigatie)menu halen. In een kleiner scherm is dit een hamburger-menu.\n"
   ]
  },
  {
   "cell_type": "markdown",
   "metadata": {},
   "source": [
    "![](images/menu_syntra_be.png)"
   ]
  },
  {
   "cell_type": "code",
   "execution_count": null,
   "metadata": {},
   "outputs": [],
   "source": [
    "menu = soup.body.nav.ul\n",
    "\n",
    "\n",
    "all_li_of_menu = menu.contents\n",
    "print(all_li_of_menu)"
   ]
  },
  {
   "cell_type": "code",
   "execution_count": null,
   "metadata": {},
   "outputs": [],
   "source": [
    "for li in all_li_of_menu:\n",
    "    print(li)\n",
    "    print('------')"
   ]
  },
  {
   "cell_type": "code",
   "execution_count": null,
   "metadata": {},
   "outputs": [],
   "source": [
    "all_li_of_menu = menu.children\n",
    "print(all_li_of_menu)"
   ]
  },
  {
   "cell_type": "code",
   "execution_count": null,
   "metadata": {},
   "outputs": [],
   "source": [
    "for li in all_li_of_menu:\n",
    "    print(li)\n",
    "    print('------')"
   ]
  },
  {
   "cell_type": "markdown",
   "metadata": {},
   "source": [
    "## find_all()\n",
    "\n",
    "We gerbuiken `find_all()` om alle elementen van een bepaald type te vinden.\n",
    "\n",
    "Zo kunnen we dus alle hyperlinken terugvinden op de ganse pagina.\n",
    "\n",
    "Dit kan altijd interessant zijn om de ganze structuur van de website in kaart te brengen."
   ]
  },
  {
   "cell_type": "code",
   "execution_count": null,
   "metadata": {},
   "outputs": [],
   "source": [
    "all_links = soup.find_all(\"a\")\n",
    "\n",
    "print(all_links)"
   ]
  },
  {
   "cell_type": "markdown",
   "metadata": {},
   "source": [
    "Maar we kunnen `find_all()` ook gebruiken elementen binnen een bepaald deel terug te vinden.\n",
    "\n",
    "Zo kunnen we alle <a> elementen van onze navigatie-menu in een lijst krijgen."
   ]
  },
  {
   "cell_type": "code",
   "execution_count": null,
   "metadata": {},
   "outputs": [],
   "source": [
    "all_links_of_nav_menu = menu.find_all('a')\n",
    "\n",
    "for link in all_links_of_nav_menu:\n",
    "    print(link)"
   ]
  },
  {
   "cell_type": "code",
   "execution_count": null,
   "metadata": {},
   "outputs": [],
   "source": [
    "print(type(all_links_of_nav_menu))"
   ]
  },
  {
   "cell_type": "markdown",
   "metadata": {},
   "source": [
    "## .parent\n",
    "\n",
    "Soms kan het nodig zijn om terug naar omhoog te gaan in de 'boom struktuur'.\n",
    "\n",
    "Hiervoor kan je dus parent gebruiken. laten we terug vertrekken van ons 'menu'."
   ]
  },
  {
   "cell_type": "code",
   "execution_count": null,
   "metadata": {},
   "outputs": [],
   "source": [
    "li = menu.ul.li\n",
    "print(li)\n",
    "\n",
    "print('---------')\n",
    "\n",
    "print(li.parent)\n"
   ]
  },
  {
   "cell_type": "markdown",
   "metadata": {},
   "source": [
    "Je krijgt dus niet enkel de parent, maar ook alle ondergeschikte elementen van deze parent."
   ]
  },
  {
   "cell_type": "markdown",
   "metadata": {},
   "source": [
    "## .parents\n",
    "\n",
    "`.parents` wordt gebruikt om alle parents van deen element te verkijgen. \n",
    "\n",
    "Met andere woorden ga je dus helemaal terug omhoog in de boomstructuur."
   ]
  },
  {
   "cell_type": "code",
   "execution_count": null,
   "metadata": {},
   "outputs": [],
   "source": [
    "li.parents"
   ]
  },
  {
   "cell_type": "code",
   "execution_count": null,
   "metadata": {},
   "outputs": [],
   "source": [
    "for parent in li.parents:\n",
    "    print(parent)\n",
    "    print('--------------')"
   ]
  },
  {
   "cell_type": "markdown",
   "metadata": {},
   "source": [
    "## next_sibling & previous_sibling\n"
   ]
  },
  {
   "cell_type": "code",
   "execution_count": null,
   "metadata": {},
   "outputs": [],
   "source": [
    "menu = soup.body.nav.ul\n",
    "li = menu.ul.li\n",
    "\n",
    "print(li)\n"
   ]
  },
  {
   "cell_type": "code",
   "execution_count": null,
   "metadata": {},
   "outputs": [],
   "source": [
    "print(li.find_next_sibling())"
   ]
  },
  {
   "cell_type": "code",
   "execution_count": null,
   "metadata": {},
   "outputs": [],
   "source": [
    "print(li.find_previous_sibling())"
   ]
  },
  {
   "cell_type": "code",
   "execution_count": null,
   "metadata": {},
   "outputs": [],
   "source": [
    "for li in li.next_siblings:\n",
    "    print(li)"
   ]
  },
  {
   "cell_type": "code",
   "execution_count": null,
   "metadata": {},
   "outputs": [],
   "source": [
    "li = menu.ul.li\n",
    "\n",
    "for li in li.previous_siblings:\n",
    "    print(li)"
   ]
  },
  {
   "cell_type": "markdown",
   "metadata": {},
   "source": [
    "## .next_element of .previous_element"
   ]
  },
  {
   "cell_type": "code",
   "execution_count": null,
   "metadata": {},
   "outputs": [],
   "source": [
    "li = menu.ul.li\n",
    "\n",
    "print(li)\n",
    "print(' ----------- ')\n",
    "print(li.next_element)\n",
    "\n"
   ]
  },
  {
   "cell_type": "markdown",
   "metadata": {},
   "source": [
    "## element met specifiek attribuut\n",
    "\n",
    "We zoeken een element met een specfiek id. \n",
    "\n",
    "Wanneer we zoeken op de pagina (via dev-tools), vinden we onderaan een script terug met een specifiek id."
   ]
  },
  {
   "cell_type": "code",
   "execution_count": null,
   "metadata": {},
   "outputs": [],
   "source": [
    "soup.find('script', id='tmpl-jet-ajax-search-results-item')"
   ]
  },
  {
   "cell_type": "markdown",
   "metadata": {},
   "source": [
    "We gaan nu de linken in het midden van de pagina proberen te bereiken. \n",
    "\n",
    "We vinden dat deze een attribuut `data-id` hebben.\n",
    "\n",
    "De voorgaande werkwijze werkt niet met `data-id` (omwille van de '-').  Daarom gebruiken we nu de `attrs` optie."
   ]
  },
  {
   "cell_type": "code",
   "execution_count": 48,
   "metadata": {},
   "outputs": [
    {
     "name": "stdout",
     "output_type": "stream",
     "text": [
      "<a aria-current=\"page\" class=\"elementor-item elementor-item-active\" href=\"https://www.syntra.be/\">Home</a>\n"
     ]
    }
   ],
   "source": [
    "print(soup.find('a', class_='elementor-item'))"
   ]
  },
  {
   "cell_type": "code",
   "execution_count": 49,
   "metadata": {},
   "outputs": [
    {
     "data": {
      "text/plain": [
       "<div class=\"elementor-element elementor-element-f163cbe elementor-align-justify elementor-widget elementor-widget-button\" data-element_type=\"widget\" data-id=\"f163cbe\" data-widget_type=\"button.default\">\n",
       "<div class=\"elementor-widget-container\">\n",
       "<div class=\"elementor-button-wrapper\">\n",
       "<a class=\"elementor-button elementor-button-link elementor-size-sm\" href=\"https://www.syntra.be/opleidingen/voltijdse-dagopleidingen/\">\n",
       "<span class=\"elementor-button-content-wrapper\">\n",
       "<span class=\"elementor-button-text\">Voltijdse dagopleidingen</span>\n",
       "</span>\n",
       "</a>\n",
       "</div>\n",
       "</div>\n",
       "</div>"
      ]
     },
     "execution_count": 49,
     "metadata": {},
     "output_type": "execute_result"
    }
   ],
   "source": [
    "soup.find(\"div\", attrs={'data-id':\"f163cbe\"})"
   ]
  },
  {
   "cell_type": "markdown",
   "metadata": {},
   "source": [
    "## Custom function\n",
    "\n",
    "Je kan zelf een functie maken om bepaalde elementen terug te vinden."
   ]
  },
  {
   "cell_type": "code",
   "execution_count": null,
   "metadata": {},
   "outputs": [],
   "source": [
    "def has_id_and_class(tag):\n",
    "    return tag.has_attr('id') and tag.has_attr('class')\n",
    "\n",
    "\n",
    "soup.find_all(has_id_and_class)"
   ]
  },
  {
   "cell_type": "code",
   "execution_count": null,
   "metadata": {},
   "outputs": [],
   "source": [
    "def has_attr(attr):\n",
    "    return attr\n",
    "\n",
    "soup.find_all(href=has_attr)"
   ]
  },
  {
   "cell_type": "code",
   "execution_count": null,
   "metadata": {},
   "outputs": [],
   "source": [
    "soup.find_all(target=has_attr)"
   ]
  },
  {
   "cell_type": "markdown",
   "metadata": {},
   "source": [
    "## find_all() meerdere parameters\n",
    "\n",
    "https://www.crummy.com/software/BeautifulSoup/bs4/doc/#find-all"
   ]
  },
  {
   "cell_type": "code",
   "execution_count": null,
   "metadata": {},
   "outputs": [],
   "source": [
    "soup.find_all(\"span\", 'elementor-icon-list-icon')"
   ]
  },
  {
   "cell_type": "code",
   "execution_count": null,
   "metadata": {},
   "outputs": [],
   "source": []
  },
  {
   "cell_type": "markdown",
   "metadata": {},
   "source": [
    "## .css selector\n",
    "\n",
    "https://www.crummy.com/software/BeautifulSoup/bs4/doc/#css-selectors-through-the-css-property\n",
    "\n",
    "https://facelessuser.github.io/soupsieve/selectors/\n",
    "\n"
   ]
  },
  {
   "cell_type": "code",
   "execution_count": null,
   "metadata": {},
   "outputs": [],
   "source": [
    "soup.select('title')"
   ]
  },
  {
   "cell_type": "code",
   "execution_count": null,
   "metadata": {},
   "outputs": [],
   "source": [
    "soup.select(\"p:nth-of-type(3)\")"
   ]
  },
  {
   "cell_type": "code",
   "execution_count": null,
   "metadata": {},
   "outputs": [],
   "source": [
    "soup.select('li > a')"
   ]
  }
 ],
 "metadata": {
  "kernelspec": {
   "display_name": "venv",
   "language": "python",
   "name": "python3"
  },
  "language_info": {
   "codemirror_mode": {
    "name": "ipython",
    "version": 3
   },
   "file_extension": ".py",
   "mimetype": "text/x-python",
   "name": "python",
   "nbconvert_exporter": "python",
   "pygments_lexer": "ipython3",
   "version": "3.10.7"
  }
 },
 "nbformat": 4,
 "nbformat_minor": 2
}
