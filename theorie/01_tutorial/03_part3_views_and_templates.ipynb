{
 "cells": [
  {
   "attachments": {},
   "cell_type": "markdown",
   "metadata": {},
   "source": [
    "# Oveview\n",
    "\n",
    "Een view in de `views.py` krijgt een request via de browser. En zal dan via een specifieke \"template\" iest tonen op het scherm.\n",
    "Een view is de manier om content op een webpagina te tonen.\n",
    "\n",
    "\n",
    "In onze \"poll\"-app zullen we de volgende views hebben:\n",
    "\n",
    "* Questions overview page   -> toont een overzicht van de vragen, de laatste eerst (bestaat al met \"index\")\n",
    "* Question detail page      -> een detail van de vraag\n",
    "* Question result page      -> toont de antwoorden voor een vraag\n",
    "* Vote action               -> de user kan stemmen\n",
    "\n",
    "Ook belangrijk is om te weten dat de \"urlconfs\" in de `urls.py` verwijzen naar een view. \n",
    "Dus wanneer een gebruiker naar een url gaat, zal django kijken in de `urls.py` of deze hierin voorkomt. Deze zal dan naar een view verwijzen. En de logica binnen deze view zal dan duidelijk maken wat we zullen tonen op de webpagina voor deze url."
   ]
  },
  {
   "attachments": {},
   "cell_type": "markdown",
   "metadata": {},
   "source": [
    "## views\n",
    "\n",
    "Laten we 3 extra views schrijven."
   ]
  },
  {
   "cell_type": "code",
   "execution_count": null,
   "metadata": {},
   "outputs": [],
   "source": [
    "def detail(request, question_id):\n",
    "    return HttpResponse(f\"You're looking at question {question_id}.\")\n",
    "\n",
    "def results(request, question_id):\n",
    "    response = f\"You're looking at the results of question {question_id}.\"\n",
    "    return HttpResponse(response)\n",
    "\n",
    "def vote(request, question_id):\n",
    "    return HttpResponse(f\"You're voting on question {question_id}.\")"
   ]
  },
  {
   "attachments": {},
   "cell_type": "markdown",
   "metadata": {},
   "source": [
    "Nu moeten we ook nog de `urls.py`-file aanpassen zodat de juiste urls worden gelinkt aan deze views."
   ]
  },
  {
   "cell_type": "code",
   "execution_count": null,
   "metadata": {},
   "outputs": [],
   "source": [
    "from django.urls import path\n",
    "from . import views\n",
    "\n",
    "urlpatterns = [\n",
    "    path(\"\", views.index, name=\"index\"),\n",
    "    path(\"<int:question_id>/\", views.detail, name=\"detail\"),\n",
    "    path(\"<int:question_id>/results/\", views.results, name=\"results\"),\n",
    "    path(\"<int:question_id>/vote/\", views.vote, name=\"vote\"),\n",
    "]"
   ]
  },
  {
   "attachments": {},
   "cell_type": "markdown",
   "metadata": {},
   "source": [
    "Als we nu naar `http://127.0.0.1:8000/polls/1/` gaan zullen we de pagina zien.\n",
    "\n",
    "We kunnen ook naar `http://127.0.0.1:8000/polls/1/results` en `http://127.0.0.1:8000/polls/1/vote` kijken.\n",
    "\n",
    "\n",
    "Ook urls met een question die nog niet in de databank zit zal werken:\n",
    "``http://127.0.0.1:8000/polls/34/``"
   ]
  },
  {
   "attachments": {},
   "cell_type": "markdown",
   "metadata": {},
   "source": [
    "## Kleine zijsprong\n",
    "\n",
    "Vooraleer we verder gaan met de bestaande views up te daten, even een view maken om wat zaken te testen met de database.\n",
    "\n",
    "in views:"
   ]
  },
  {
   "cell_type": "code",
   "execution_count": null,
   "metadata": {},
   "outputs": [],
   "source": [
    "def test_db(request):\n",
    "    print(\"--- Dit is een test ---\")\n",
    "    return HttpResponse(\"Check the print on your server\")"
   ]
  },
  {
   "attachments": {},
   "cell_type": "markdown",
   "metadata": {},
   "source": [
    "voeg toe in urls:"
   ]
  },
  {
   "cell_type": "code",
   "execution_count": null,
   "metadata": {},
   "outputs": [],
   "source": [
    "path(\"test_db\", views.test_db, name=\"test_db\"),\n"
   ]
  },
  {
   "attachments": {},
   "cell_type": "markdown",
   "metadata": {},
   "source": [
    "Nu kan je naar `http://127.0.0.1:8000/polls/test_db` gaan.\n",
    "\n",
    "Kijk nu in de terminal van je server en dan zal je onze print statement zien.\n",
    "\n",
    "We passen nu de view aan zodat we de resultaten van een aantal database actie kunnen zien."
   ]
  },
  {
   "cell_type": "code",
   "execution_count": null,
   "metadata": {},
   "outputs": [],
   "source": [
    "from polls.models import Choice, Question \n",
    "\n",
    "def test_db(request):\n",
    "    print(\"--- Dit is een test ---\")\n",
    "\n",
    "    all_question = Question.objects.all()\n",
    "    print(all_question)\n",
    "    \n",
    "    return HttpResponse(\"Check the print on your server\")"
   ]
  },
  {
   "attachments": {},
   "cell_type": "markdown",
   "metadata": {},
   "source": [
    "Refresh uw pagina, en dan zal je in de terminal de Queryset zien.\n",
    "\n",
    "Nu zullen we element saven in de database."
   ]
  },
  {
   "cell_type": "code",
   "execution_count": null,
   "metadata": {},
   "outputs": [],
   "source": [
    "def test_db(request):\n",
    "    print(\"--- Dit is een test ---\")\n",
    "\n",
    "    all_question = Question.objects.all()\n",
    "    print(all_question)\n",
    "\n",
    "    q = Question(question_text=\"What's new?\", pub_date=timezone.now())\n",
    "    q.save()\n",
    "\n",
    "    return HttpResponse(\"Check the print on your server\")"
   ]
  },
  {
   "attachments": {},
   "cell_type": "markdown",
   "metadata": {},
   "source": [
    "Als we nu onze pagina (url) refreshen, dan zullen we in onze database (db browser) een nieuwe Question zien. \n",
    "\n",
    "Elke keer we de pagina refreshen zal er een nieuwe toevoeging zijn in de db.\n",
    "\n",
    "We kunnen eenvoudig de data uit de kolommen capteren:"
   ]
  },
  {
   "cell_type": "code",
   "execution_count": null,
   "metadata": {},
   "outputs": [],
   "source": [
    "def test_db(request):\n",
    "    print(\"--- Dit is een test ---\")\n",
    "\n",
    "    all_question = Question.objects.all()\n",
    "    print(all_question)\n",
    "\n",
    "    q = Question(question_text=\"What's new?\", pub_date=timezone.now())\n",
    "    q.save()\n",
    "\n",
    "    print(f\"Question aangemaakt met id: {q.id}, text: {q.question_text}, datum: {q.pub_date}\")\n",
    "\n",
    "    return HttpResponse(\"Check the print on your server\")\n"
   ]
  },
  {
   "attachments": {},
   "cell_type": "markdown",
   "metadata": {},
   "source": [
    "We kunnen de data ook eenvoudig aanpassen.\n",
    "\n",
    "We gaan nu een extra methode toevoegen aan onze Model-klasse \"Question\"."
   ]
  },
  {
   "cell_type": "code",
   "execution_count": null,
   "metadata": {},
   "outputs": [],
   "source": [
    "from django.utils import timezone\n",
    "import datetime\n",
    "\n",
    "        \n",
    "def was_published_recently(self):\n",
    "    return self.pub_date >= timezone.now() - datetime.timedelta(days=1)"
   ]
  },
  {
   "attachments": {},
   "cell_type": "markdown",
   "metadata": {},
   "source": [
    "We kunnen deze methode aanspreken in onze view."
   ]
  },
  {
   "cell_type": "code",
   "execution_count": null,
   "metadata": {},
   "outputs": [],
   "source": [
    "def test_db(request):\n",
    "    print(\"--- Dit is een test ---\")\n",
    "\n",
    "    all_question = Question.objects.all()\n",
    "    print(all_question)\n",
    "\n",
    "    q = Question(question_text=\"What's new?\", pub_date=timezone.now())\n",
    "    q.save()\n",
    "\n",
    "    print(f\"Question aangemaakt met id: {q.id}, text: {q.question_text}, datum: {q.pub_date}\")\n",
    "\n",
    "    q.question_text = \"We hebben de vraag veranderd ... wie weet het nu nog ?\"\n",
    "    q.save()\n",
    "\n",
    "    print(f\"de text van de vraag met id {q.id} is veranderd naar '{q.question_text}'\")\n",
    "\n",
    "    all_question = Question.objects.all()\n",
    "    print(all_question)\n",
    "\n",
    "    print(\"--------- Recent Published ---------\")\n",
    "    print(q.was_published_recently())\n",
    "\n",
    "    return HttpResponse(\"Check the print on your server\")"
   ]
  },
  {
   "attachments": {},
   "cell_type": "markdown",
   "metadata": {},
   "source": [
    "We voegen nog een aantal extra code toe om te filteren in onze data.\n",
    "We stoppen met telkens nieuwe data toe te voegen in de db."
   ]
  },
  {
   "cell_type": "code",
   "execution_count": null,
   "metadata": {},
   "outputs": [],
   "source": [
    "def test_db(request):\n",
    "    print(\"--- Dit is een test ---\")\n",
    "\n",
    "    all_question = Question.objects.all()\n",
    "    print(all_question)\n",
    "\n",
    "    # q = Question(question_text=\"What's new?\", pub_date=timezone.now())\n",
    "    # q.save()\n",
    "\n",
    "    # print(f\"Question aangemaakt met id: {q.id}, text: {q.question_text}, datum: {q.pub_date}\")\n",
    "\n",
    "    # q.question_text = \"We hebben de vraag veranderd ... wie weet het nu nog ?\"\n",
    "    # q.save()\n",
    "\n",
    "    # print(f\"de text van de vraag met id {q.id} is veranderd naar '{q.question_text}'\")\n",
    "\n",
    "    # all_question = Question.objects.all()\n",
    "    # print(all_question)\n",
    "\n",
    "    # print(\"--------- Recent Published ---------\")\n",
    "    # print(q.was_published_recently())\n",
    "\n",
    "    q_1 = Question.objects.filter(id=1)\n",
    "    print(f\"We hebben de Quetion met id: {q_1.id} opgehaald\")\n",
    "\n",
    "    return HttpResponse(\"Check the print on your server\")"
   ]
  },
  {
   "attachments": {},
   "cell_type": "markdown",
   "metadata": {},
   "source": [
    "We krijgen nu een error.\n",
    "\n",
    "`Exception Type:\tAttributeError`\n",
    "`Exception Value: 'QuerySet' object has no attribute 'id'`\n",
    "\n",
    "als we onze print uit commenten. En we printen `q_1` uit zien we het volgende:\n"
   ]
  },
  {
   "cell_type": "code",
   "execution_count": null,
   "metadata": {},
   "outputs": [],
   "source": [
    "\n",
    "def test_db(request):\n",
    "    print(\"--- Dit is een test ---\")\n",
    "\n",
    "    all_question = Question.objects.all()\n",
    "    print(all_question)\n",
    "\n",
    "    # ...\n",
    "\n",
    "    q_1 = Question.objects.filter(id=1)\n",
    "    # print(f\"We hebben de Quetion met id: {q_1.id} opgehaald\")\n",
    "    print(q_1)\n",
    "\n",
    "    return HttpResponse(\"Check the print on your server\")"
   ]
  },
  {
   "attachments": {},
   "cell_type": "markdown",
   "metadata": {},
   "source": [
    "`<QuerySet [<Question: What's up?>]>`\n",
    "\n",
    "filter geeft niet 1 element terug, maar een \"QuerySet\" met alle elementen die aan de filter voldoen.\n",
    "\n",
    "om exact 1 specifiek element te krijgen, gebruiken we `get`"
   ]
  },
  {
   "cell_type": "code",
   "execution_count": null,
   "metadata": {},
   "outputs": [],
   "source": [
    "\n",
    "def test_db(request):\n",
    "    print(\"--- Dit is een test ---\")\n",
    "\n",
    "    all_question = Question.objects.all()\n",
    "    print(all_question)\n",
    "\n",
    "    # ...\n",
    "\n",
    "    q_1 = Question.objects.filter(id=1)\n",
    "    # print(f\"We hebben de Quetion met id: {q_1.id} opgehaald\")\n",
    "    print(q_1)\n",
    "\n",
    "    q_2 = Question.objects.get(id=2)\n",
    "    print(f\"We hebben de Question met id: {q_2.id} opgehaald\")\n",
    "\n",
    "    return HttpResponse(\"Check the print on your server\")"
   ]
  },
  {
   "attachments": {},
   "cell_type": "markdown",
   "metadata": {},
   "source": [
    "Nog een aantal mogelijkheden met filter.\n"
   ]
  },
  {
   "cell_type": "code",
   "execution_count": null,
   "metadata": {},
   "outputs": [],
   "source": [
    "def test_db(request):\n",
    "    print(\"--- Dit is een test ---\")\n",
    "\n",
    "    all_question = Question.objects.all()\n",
    "    print(all_question)\n",
    "\n",
    "    # ...\n",
    "\n",
    "    qs = Question.objects.filter(question_text__startswith=\"What\")\n",
    "    print(qs)\n",
    "\n",
    "    return HttpResponse(\"Check the print on your server\")"
   ]
  },
  {
   "attachments": {},
   "cell_type": "markdown",
   "metadata": {},
   "source": [
    "Nu krijgen we een Queryset met alle Questions die starten met \"What\""
   ]
  },
  {
   "cell_type": "code",
   "execution_count": null,
   "metadata": {},
   "outputs": [],
   "source": [
    "def test_db(request):\n",
    "    print(\"--- Dit is een test ---\")\n",
    "\n",
    "    all_question = Question.objects.all()\n",
    "    print(all_question)\n",
    "\n",
    "    # ...\n",
    "\n",
    "    current_year = timezone.now().year\n",
    "    qs_2 = Question.objects.filter(pub_date__year=current_year)\n",
    "    print(qs_2)\n",
    "\n",
    "\n",
    "    return HttpResponse(\"Check the print on your server\")"
   ]
  },
  {
   "attachments": {},
   "cell_type": "markdown",
   "metadata": {},
   "source": [
    "Nu krijgen we alle vragen van die dit jaar zijn toegevoegd"
   ]
  },
  {
   "cell_type": "code",
   "execution_count": null,
   "metadata": {},
   "outputs": [],
   "source": [
    "def test_db(request):\n",
    "    print(\"--- Dit is een test ---\")\n",
    "\n",
    "    all_question = Question.objects.all()\n",
    "    print(all_question)\n",
    "\n",
    "    # ...\n",
    "\n",
    "\n",
    "    previous_year = (timezone.now()- datetime.timedelta(weeks=52)).year\n",
    "    qs_3 = Question.objects.filter(pub_date__year=previous_year)\n",
    "    print(qs_3)\n",
    "\n",
    "    return HttpResponse(\"Check the print on your server\")"
   ]
  },
  {
   "attachments": {},
   "cell_type": "markdown",
   "metadata": {},
   "source": [
    "Nu krijgen we alle vragen die vorig jaar zijn toegevoegd. \n",
    "\n",
    "Je kan via de admin de datum van 1 vraag veranderen om te dubbel checken.\n",
    "\n",
    "Nu gaan we de choices voor een bepaalde question checken.\n",
    "\n",
    "We gebruiken `_set` om de gerelateerde info op te halen."
   ]
  },
  {
   "cell_type": "code",
   "execution_count": null,
   "metadata": {},
   "outputs": [],
   "source": [
    "def test_db(request):\n",
    "    print(\"--- Dit is een test ---\")\n",
    "\n",
    "    all_question = Question.objects.all()\n",
    "    print(all_question)\n",
    "\n",
    "    # ...\n",
    "\n",
    "    q_3 = Question.objects.get(pk=1)\n",
    "    choices = q_3.choice_set.all()\n",
    "    print(choices)\n",
    "\n",
    "    return HttpResponse(\"Check the print on your server\")"
   ]
  },
  {
   "attachments": {},
   "cell_type": "markdown",
   "metadata": {},
   "source": [
    "We zien dat de Queryset nog leeg is. \n",
    "\n",
    "We hebben ook nog geen choices aangemaakt. Dat doen we nu:"
   ]
  },
  {
   "cell_type": "code",
   "execution_count": null,
   "metadata": {},
   "outputs": [],
   "source": [
    "def test_db(request):\n",
    "    print(\"--- Dit is een test ---\")\n",
    "\n",
    "    all_question = Question.objects.all()\n",
    "    print(all_question)\n",
    "\n",
    "    # ...\n",
    "\n",
    "    q_3.choice_set.create(choice_text=\"Not much\", votes=0)\n",
    "    q_3.choice_set.create(choice_text=\"The sky\", votes=0)\n",
    "    c = Choice(question=q_3, choice_text=\"Just hacking again\", votes=0)\n",
    "    c.save()\n",
    "\n",
    "    print(c.question)\n",
    "\n",
    "\n",
    "    return HttpResponse(\"Check the print on your server\")"
   ]
  },
  {
   "attachments": {},
   "cell_type": "markdown",
   "metadata": {},
   "source": [
    "We printen nu de 3 choices uit van onze question."
   ]
  },
  {
   "cell_type": "code",
   "execution_count": null,
   "metadata": {},
   "outputs": [],
   "source": [
    "def test_db(request):\n",
    "    print(\"--- Dit is een test ---\")\n",
    "\n",
    "    all_question = Question.objects.all()\n",
    "    print(all_question)\n",
    "\n",
    "    # ...\n",
    "\n",
    "    choices = q_3.choice_set.all()\n",
    "    print(choices)\n",
    "\n",
    "    print(q_3.choice_set.count())\n",
    "\n",
    "\n",
    "    return HttpResponse(\"Check the print on your server\")"
   ]
  },
  {
   "attachments": {},
   "cell_type": "markdown",
   "metadata": {},
   "source": [
    "Nu printen we de choices uit van de questions uit het vorige jaar."
   ]
  },
  {
   "cell_type": "code",
   "execution_count": null,
   "metadata": {},
   "outputs": [],
   "source": [
    "def test_db(request):\n",
    "    print(\"--- Dit is een test ---\")\n",
    "\n",
    "    all_question = Question.objects.all()\n",
    "    print(all_question)\n",
    "\n",
    "    # ...\n",
    "\n",
    "    previous_year = (timezone.now()- datetime.timedelta(weeks=52)).year\n",
    "    choices_from_question_current_year = Choice.objects.filter(question__pub_date__year=previous_year)\n",
    "    print(choices_from_question_current_year)\n",
    "\n",
    "\n",
    "    return HttpResponse(\"Check the print on your server\")"
   ]
  },
  {
   "attachments": {},
   "cell_type": "markdown",
   "metadata": {},
   "source": [
    "tot slotte deleten we één van de choices."
   ]
  },
  {
   "cell_type": "code",
   "execution_count": null,
   "metadata": {},
   "outputs": [],
   "source": [
    "def test_db(request):\n",
    "    print(\"--- Dit is een test ---\")\n",
    "\n",
    "    all_question = Question.objects.all()\n",
    "    print(all_question)\n",
    "\n",
    "    # ...\n",
    "    c_1 = q_3.choice_set.filter(choice_text__startswith=\"Just \")\n",
    "    c_1.delete()\n",
    "\n",
    "    return HttpResponse(\"Check the print on your server\")"
   ]
  },
  {
   "attachments": {},
   "cell_type": "markdown",
   "metadata": {},
   "source": [
    "## Terug naar onze views.\n",
    "\n",
    "We gaan op onze index-view de laatste 3 Questions tonen."
   ]
  },
  {
   "cell_type": "code",
   "execution_count": null,
   "metadata": {},
   "outputs": [],
   "source": [
    "def index(request):\n",
    "    latest_question_list = Question.objects.order_by(\"-pub_date\")[:3]\n",
    "    output = \", <br>\".join([q.question_text for q in latest_question_list])\n",
    "    return HttpResponse(output)"
   ]
  },
  {
   "attachments": {},
   "cell_type": "markdown",
   "metadata": {},
   "source": [
    "Dit is nartuurlijk niet de meest elegante manier. De gegevens zijn hard-coded in een string.\n",
    "\n",
    "We zullen nu het Template-systeem van Django gebruiken om dit eleganter te maken.\n",
    "\n",
    "\n",
    "We maken eerst in onze app de folders : `/templates/polls` aan\n",
    "\n",
    "Dit moet op deze manier worden opgezet, zodat Django de juiste templates kan vinden.\n",
    "\n",
    "We maken hierin nu de file : `index.html` aan"
   ]
  },
  {
   "cell_type": "code",
   "execution_count": null,
   "metadata": {
    "vscode": {
     "languageId": "html"
    }
   },
   "outputs": [],
   "source": [
    "<h1>Onze lijst</h1>"
   ]
  },
  {
   "attachments": {},
   "cell_type": "markdown",
   "metadata": {},
   "source": [
    "Om deze \"HTML\"-file aan te spreken, veranderen we onze  code in \"views.py\"."
   ]
  },
  {
   "cell_type": "code",
   "execution_count": null,
   "metadata": {},
   "outputs": [],
   "source": [
    "def index(request):\n",
    "    # latest_question_list = Question.objects.order_by(\"-pub_date\")[:3]\n",
    "    # output = \", <br>\".join([q.question_text for q in latest_question_list])\n",
    "    template = loader.get_template(\"polls/index.html\")\n",
    "    \n",
    "    return HttpResponse(template.render())"
   ]
  },
  {
   "attachments": {},
   "cell_type": "markdown",
   "metadata": {},
   "source": [
    "Nu zien we us onze <h1> titel.\n",
    "\n",
    "Nu zullen we extra context meegeven aan onze HttpResponse. Zodat we deze op een elegante wijze kunnen tonen.\n",
    "\n",
    "We zullen daarna ook onze HTML aanpassen, om onze context te gebruiken."
   ]
  },
  {
   "cell_type": "code",
   "execution_count": null,
   "metadata": {},
   "outputs": [],
   "source": [
    "def index(request):\n",
    "    latest_question_list = Question.objects.order_by(\"-pub_date\")[:3]\n",
    "    template = loader.get_template(\"polls/index.html\")\n",
    "    context = {\n",
    "        \"latest_question_list\": latest_question_list\n",
    "    }\n",
    "    return HttpResponse(template.render(context, request))"
   ]
  },
  {
   "cell_type": "code",
   "execution_count": null,
   "metadata": {
    "vscode": {
     "languageId": "html"
    }
   },
   "outputs": [],
   "source": [
    "{% if latest_question_list %}\n",
    "    <ul>\n",
    "    {% for question in latest_question_list %}\n",
    "        <li><a href=\"/polls/{{ question.id }}/\">{{ question.question_text }}</a></li>\n",
    "    {% endfor %}\n",
    "    </ul>\n",
    "{% else %}\n",
    "    <p>No polls are available.</p>\n",
    "{% endif %}"
   ]
  },
  {
   "attachments": {},
   "cell_type": "markdown",
   "metadata": {},
   "source": [
    "Je ziet in deze HTML-file een aantal zaken.\n",
    "\n",
    "* {% %}\n",
    "* {{ }}\n",
    "* HTML"
   ]
  },
  {
   "attachments": {},
   "cell_type": "markdown",
   "metadata": {},
   "source": [
    "**SCHORTCUT**\n",
    "\n",
    "We kunnen onze view nog iets updaten door `render()` te gebruiken."
   ]
  },
  {
   "cell_type": "code",
   "execution_count": null,
   "metadata": {},
   "outputs": [],
   "source": [
    "from django.shortcuts import render\n",
    "\n",
    "def index(request):\n",
    "    latest_question_list = Question.objects.order_by(\"-pub_date\")[:3]\n",
    "    context = {\n",
    "        \"latest_question_list\": latest_question_list\n",
    "    }\n",
    "    return render(request, \"polls/index.html\", context)"
   ]
  },
  {
   "attachments": {},
   "cell_type": "markdown",
   "metadata": {},
   "source": [
    "## Detail view \n",
    "\n",
    "We maken onze detail view aan in `views.py`:"
   ]
  },
  {
   "cell_type": "code",
   "execution_count": null,
   "metadata": {},
   "outputs": [],
   "source": [
    "def detail(request, question_id):\n",
    "    question = Question.objects.get(pk=question_id)\n",
    "    context = {\n",
    "        \"question\" : question\n",
    "    }\n",
    "    return render(request, \"polls/detail.html\", context)"
   ]
  },
  {
   "attachments": {},
   "cell_type": "markdown",
   "metadata": {},
   "source": [
    "en  de `detail.html`:"
   ]
  },
  {
   "cell_type": "code",
   "execution_count": null,
   "metadata": {
    "vscode": {
     "languageId": "html"
    }
   },
   "outputs": [],
   "source": [
    "{{ question }}"
   ]
  },
  {
   "attachments": {},
   "cell_type": "markdown",
   "metadata": {},
   "source": [
    "als we nu naar `http://127.0.0.1:8000/polls/1/` gaan zien we de question_text (omdat dat de __str__ representatie is).\n",
    "\n",
    "wanneer we echter naar `http://127.0.0.1:8000/polls/100/` gaan, dan krijgen we een error te zien."
   ]
  },
  {
   "attachments": {},
   "cell_type": "markdown",
   "metadata": {},
   "source": [
    "## -> 404 error\n",
    "\n",
    "Daarom haan we nu een \"error\"-handling toevoegen:"
   ]
  },
  {
   "cell_type": "code",
   "execution_count": null,
   "metadata": {},
   "outputs": [],
   "source": [
    "def detail(request, question_id):\n",
    "    try:\n",
    "        question = Question.objects.get(pk=question_id)\n",
    "        context = {\n",
    "            \"question\" : question\n",
    "        }\n",
    "    except Question.DoesNotExist as e:\n",
    "        raise Http404(f\"Personal note: Question does not exist => \\n {e}\")\n",
    "    return render(request, \"polls/detail.html\", context)"
   ]
  },
  {
   "attachments": {},
   "cell_type": "markdown",
   "metadata": {},
   "source": [
    "We zien nu een 404-error in de browser.\n",
    "We zullen deze later nog verder pimpen. (dit heeft ook te maken met de \"Debug = True\" in de settings.py -file)\n",
    "\n",
    "\n",
    "Verschillende error codes => https://kb.iu.edu/d/bfrc\n",
    "\n",
    "===> 404\tNot Found\tRequested file was not found"
   ]
  },
  {
   "attachments": {},
   "cell_type": "markdown",
   "metadata": {},
   "source": [
    "**SHORTCUT**\n",
    "\n",
    "Er bestaat ook een functie die het bovenstaande ineens doet."
   ]
  },
  {
   "cell_type": "code",
   "execution_count": null,
   "metadata": {},
   "outputs": [],
   "source": [
    "from django.shortcuts import render, get_object_or_404\n",
    "\n",
    "def detail(request, question_id):\n",
    "    question = get_object_or_404(Question, pk=question_id)\n",
    "    context = {\n",
    "        \"question\" : question\n",
    "    }\n",
    "    return render(request, \"polls/detail.html\", context)"
   ]
  },
  {
   "attachments": {},
   "cell_type": "markdown",
   "metadata": {},
   "source": [
    "check opnieuw:\n",
    "\n",
    "*  `http://127.0.0.1:8000/polls/1/`\n",
    "*  `http://127.0.0.1:8000/polls/100/` \n",
    "\n",
    "\n",
    "er bestaat ook `get_list_or_404()`, deze gebruikt \"filter()\" zal een 404 geven als de Queryset empty is"
   ]
  },
  {
   "attachments": {},
   "cell_type": "markdown",
   "metadata": {},
   "source": [
    "## Template system for Detail\n",
    "\n",
    "we passen onze html aan voor de detail-view."
   ]
  },
  {
   "cell_type": "code",
   "execution_count": null,
   "metadata": {
    "vscode": {
     "languageId": "html"
    }
   },
   "outputs": [],
   "source": [
    "<h1>{{question.question_text}}</h1>\n",
    "\n",
    "<ul>\n",
    "    {% for choice in question.choice_set.all %}\n",
    "        <li>{{choice.choice_text}} </li>\n",
    "    {% endfor %}\n",
    "</ul>"
   ]
  },
  {
   "attachments": {},
   "cell_type": "markdown",
   "metadata": {},
   "source": [
    "Als we nu de detail-url open van de question met id==1 zien we het resultaat:\n",
    "\n",
    "`http://127.0.0.1:8000/polls/1/`"
   ]
  },
  {
   "attachments": {},
   "cell_type": "markdown",
   "metadata": {},
   "source": [
    "## remove hardcoded urls \n",
    "\n",
    "In de `index.html` hebben we de urls naar de detail pagina \"hardcoded\".\n",
    "\n",
    "<li><a href=\"/polls/{{ question.id }}/\">{{ question.question_text }}</a></li>\n",
    "\n",
    "dit betekent dat het nu moeilijk wordt om de urls te veranderen. Want dan moet je op alle plaatsen in de templates de urls gaan veranderen.\n",
    "\n",
    "Daarom is er de mogelijkheid om deze dynamischer te maken:"
   ]
  },
  {
   "cell_type": "code",
   "execution_count": null,
   "metadata": {
    "vscode": {
     "languageId": "html"
    }
   },
   "outputs": [],
   "source": [
    "<li><a href=\"{% url 'detail' question.id %}\">{{ question.question_text }}</a></li>"
   ]
  },
  {
   "attachments": {},
   "cell_type": "markdown",
   "metadata": {},
   "source": [
    "We gebruiken dus {% url %}\n",
    "\n",
    "waarin 'detail' staat voor de naam die we hebben gegeven in de urls."
   ]
  },
  {
   "cell_type": "code",
   "execution_count": null,
   "metadata": {},
   "outputs": [],
   "source": [
    "path(\"<int:question_id>/\", views.detail, name=\"detail\"),"
   ]
  },
  {
   "attachments": {},
   "cell_type": "markdown",
   "metadata": {},
   "source": [
    "Dit is dus veel eenvoudiger om later de urls aan te passen. Je hoeft dit dan enkel in de `urls.py` te doen.\n",
    "\n",
    "Er is nog 1 ding dat we best aanpassen. \n",
    "\n",
    "Wat als er meerdere apps zijn die 'detail' hebben als url_name ?\n",
    "\n",
    "Daarom voegen we eerst de `app_name = \"polls` toe aan de `urls.py`.\n"
   ]
  },
  {
   "cell_type": "code",
   "execution_count": null,
   "metadata": {},
   "outputs": [],
   "source": [
    "from django.urls import path\n",
    "from . import views\n",
    "\n",
    "app_name = \"polls\"\n",
    "urlpatterns = [\n",
    "    # ...\n",
    "]"
   ]
  },
  {
   "attachments": {},
   "cell_type": "markdown",
   "metadata": {},
   "source": [
    "En daarna kunnen we in onze template de verwijzing aanpassen:"
   ]
  },
  {
   "attachments": {},
   "cell_type": "markdown",
   "metadata": {},
   "source": [
    "<li><a href=\"{% url 'polls:detail' question.id %}\">{{ question.question_text }}</a></li>"
   ]
  }
 ],
 "metadata": {
  "language_info": {
   "name": "python"
  },
  "orig_nbformat": 4
 },
 "nbformat": 4,
 "nbformat_minor": 2
}
