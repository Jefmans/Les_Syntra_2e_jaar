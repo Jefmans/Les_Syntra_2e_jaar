{
 "cells": [
  {
   "attachments": {},
   "cell_type": "markdown",
   "metadata": {},
   "source": [
    "# Testing\n",
    "\n",
    "Tests worden geschreven in de file `tests.py`.\n",
    "\n",
    "We gaan nu een test schrijven voor \"Questions\" die in de toekomst worden gecreeerd. Maar dus niet als \"recently_published\" mogen worden aanzien.\n",
    "\n"
   ]
  },
  {
   "cell_type": "code",
   "execution_count": null,
   "metadata": {},
   "outputs": [],
   "source": [
    "from django.test import TestCase\n",
    "\n",
    "import datetime\n",
    "from django.utils import timezone\n",
    "\n",
    "from .models import Question\n",
    "\n",
    "\n",
    "# Create your tests here.\n",
    "\n",
    "class QuestionModelTests(TestCase):\n",
    "    \n",
    "    def test_was_published_recently_with_future_question(self):\n",
    "        \"\"\"\n",
    "        was_published_recently() returns False for questions whose pub_date\n",
    "        is in the future.\n",
    "        \"\"\"\n",
    "        future_time = timezone.now() + datetime.timedelta(days=30)\n",
    "        future_question = Question(pub_date=future_time)\n",
    "\n",
    "        self.assertIs(future_question.was_published_recently(), False)"
   ]
  },
  {
   "attachments": {},
   "cell_type": "markdown",
   "metadata": {},
   "source": [
    "Deze test kunnen we nu runnen door in de terminal `python manage.py test polls` te schrijven.\n",
    "\n",
    "Hierdoor gaan we dus enkel de tests van polls runnen.\n",
    "\n",
    "met `python manage.py test` runnnen we alle tests van alle apps.\n",
    "\n",
    "De uitkomst van de test is:"
   ]
  },
  {
   "cell_type": "code",
   "execution_count": null,
   "metadata": {
    "vscode": {
     "languageId": "powershell"
    }
   },
   "outputs": [],
   "source": [
    "Creating test database for alias 'default'...\n",
    "System check identified no issues (0 silenced).\n",
    "F\n",
    "======================================================================\n",
    "FAIL: test_was_published_recently_with_future_question (polls.tests.QuestionModelTests)\n",
    "----------------------------------------------------------------------\n",
    "Traceback (most recent call last):\n",
    "  File \"/path/to/mysite/polls/tests.py\", line 16, in test_was_published_recently_with_future_question\n",
    "    self.assertIs(future_question.was_published_recently(), False)\n",
    "AssertionError: True is not False\n",
    "\n",
    "----------------------------------------------------------------------\n",
    "Ran 1 test in 0.001s\n",
    "\n",
    "FAILED (failures=1)\n",
    "Destroying test database for alias 'default'..."
   ]
  },
  {
   "attachments": {},
   "cell_type": "markdown",
   "metadata": {},
   "source": [
    "We hadden \"False\" verwacht, maar hebben True gekregen."
   ]
  },
  {
   "attachments": {},
   "cell_type": "markdown",
   "metadata": {},
   "source": [
    "Tijdens het uitvoeren van `python manage.py test polls` zoekt django naar tests in de \"polls\" applicatie.\n",
    "\n",
    "In 'polls' vond het dus een \"TestCase\" object.\n",
    "\n",
    "Tijdens het uitvoeren van de test wordt er hiervoor specifiek een database gemaakt.\n",
    "\n",
    "Daarna wordt er gezocht naar test-methods. Dat zijn degenen die met \"test\" beginnen.\n",
    "\n",
    "In het geval van onze test `test_was_published_recently_with_future_question()` werd er een \"Question\"-instance aangemaakt met 30 dagen in de toekomst.\n",
    "\n",
    "Ee werd in deze methode de \"assertIs()\" methode gebruikt. We hadden False verwacht en er werd True gegenereerd."
   ]
  },
  {
   "attachments": {},
   "cell_type": "markdown",
   "metadata": {},
   "source": [
    "## Fixen van de Bug\n",
    "\n",
    "We zorgen dat onze methode `test_was_published_recently_with_future_question()` nu False geeft in het geval de datum in de toekomst ligt.\n",
    "\n",
    "\n",
    "Wie weet hoe ?"
   ]
  },
  {
   "cell_type": "code",
   "execution_count": null,
   "metadata": {},
   "outputs": [],
   "source": [
    "def was_published_recently(self):\n",
    "    now = timezone.now()\n",
    "    return now - datetime.timedelta(days=1) <= self.pub_date <= now"
   ]
  },
  {
   "attachments": {},
   "cell_type": "markdown",
   "metadata": {},
   "source": [
    "Als we nu de test met `python manage.py test polls` draaien, dan zullen we 'OK' krijgen."
   ]
  },
  {
   "attachments": {},
   "cell_type": "markdown",
   "metadata": {},
   "source": [
    "# Meer Uitgebreide tests\n",
    "\n",
    "We kunnen meer tests voor `was_published_recently` toevoegen.\n",
    "\n",
    "We willen bv. checken of:\n",
    "* Een test die ouder is dan 1 dag, als False geeft.\n",
    "* Een test die jonger is als 1 dag, true geeft.\n",
    "\n",
    "\n",
    "Hoe kunnen we dit doen ?"
   ]
  },
  {
   "attachments": {},
   "cell_type": "markdown",
   "metadata": {},
   "source": [
    "We voegen volgende toe aan onze \"TestCase()\":"
   ]
  },
  {
   "cell_type": "code",
   "execution_count": null,
   "metadata": {},
   "outputs": [],
   "source": [
    "def test_was_published_recently_with_old_question(self):\n",
    "    time = timezone.now() - datetime.timedelta(hours=24, seconds=1)\n",
    "    old_question = Question(pub_date=time)\n",
    "    \n",
    "    self.assertIs(old_question.was_published_recently(), False)\n",
    "\n",
    "def test_was_published_recently_with_recent_question(self):\n",
    "    time = timezone.now() - datetime.timedelta(hours=23, minutes=59, seconds=59)\n",
    "    recent_question = Question(pub_date=time)\n",
    "    \n",
    "    self.assertIs(recent_question.was_published_recently(), True)"
   ]
  },
  {
   "attachments": {},
   "cell_type": "markdown",
   "metadata": {},
   "source": [
    "# Test a view\n",
    "\n",
    "Django heeft een (test) Client() die de mogelijkheid geeft om een \"User\" na te bootsen die met een \"view interageert\".\n",
    "\n",
    "Vooraleer we onze test maken, gaan we eerst onze code aanmaken.\n",
    "\n",
    "\n",
    "We beginnen met het updaten van onze `IndexView()`.\n",
    "\n",
    "Ze ziet er nu nog zo uit:"
   ]
  },
  {
   "cell_type": "code",
   "execution_count": null,
   "metadata": {},
   "outputs": [],
   "source": [
    "class IndexView(generic.ListView):\n",
    "    template_name = \"polls/index.html\"\n",
    "    context_object_name = \"latest_question_list\"\n",
    "\n",
    "    def get_queryset(self) -> QuerySet[Any]:\n",
    "        return Question.objects.order_by(\"-pub_date\")[:3]"
   ]
  },
  {
   "attachments": {},
   "cell_type": "markdown",
   "metadata": {},
   "source": [
    "Deze view toont op dit moment ook \"Question()\"s die nog niet gepublished zijn. (die met een pub_date in de toekomst)\n",
    "\n",
    "We zullen daarom onze queryset updaten om hier aan te voldoen.  (we voegen filter toe)"
   ]
  },
  {
   "cell_type": "code",
   "execution_count": null,
   "metadata": {},
   "outputs": [],
   "source": [
    "return Question.objects.filter(pub_date__lte=timezone.now()).order_by(\"-pub_date\")[:3]"
   ]
  },
  {
   "attachments": {},
   "cell_type": "markdown",
   "metadata": {},
   "source": [
    "in de filter gebruiken we `pub_date__lte`.\n",
    "\n",
    "Dit staat voor \"less than or equal\". Dus we filteren enkel \"Questions\" waarvan de publicatie datum kleiner of gelijk zijn aan nu. \n",
    "\n",
    "Je heb nog andere \"field lookups\" zoals bv. __gte, __lt, __in, __contains, ... \n",
    "\n",
    "je vind een overzicht via: `https://docs.djangoproject.com/en/4.2/ref/models/querysets/#field-lookups`"
   ]
  },
  {
   "attachments": {},
   "cell_type": "markdown",
   "metadata": {},
   "source": [
    "## Testing our view\n",
    "\n",
    "we updaten onze `test.py`. \n",
    "\n",
    "Eerst maken we een functie waarmee we makkelijk vragen kunnen aanmaken. Om herhaling te vermijden."
   ]
  },
  {
   "cell_type": "code",
   "execution_count": null,
   "metadata": {},
   "outputs": [],
   "source": [
    "def create_question(question_text, days):\n",
    "    time = timezone.now() + datetime.timedelta(days=days)\n",
    "    return Question.objects.create(question_text=question_text, pub_date=time)"
   ]
  },
  {
   "attachments": {},
   "cell_type": "markdown",
   "metadata": {},
   "source": [
    "Nu maken we een nieuwe \"TestCase\" aan voor onze view.\n",
    "\n",
    "De client is een onderdeel van het \"TestCase\" object. We kunnen de client hierin oproepen via `self.client`."
   ]
  },
  {
   "cell_type": "code",
   "execution_count": null,
   "metadata": {},
   "outputs": [],
   "source": [
    "from django.urls import reverse\n",
    "\n",
    "\n",
    "class QuestionIndexViewTests(TestCase):\n",
    "    \n",
    "    def test_no_questions(self):\n",
    "        '''\n",
    "        No question exists -> show message\n",
    "        '''\n",
    "        response = self.client.get(reverse(\"polls:index\"))\n",
    "        self.assertEqual(response.status_code, 200)\n",
    "        self.assertContains(response, \"No polls are available.\")\n",
    "        self.assertQuerysetEqual(response.context['latest_question_list'], [])"
   ]
  },
  {
   "attachments": {},
   "cell_type": "markdown",
   "metadata": {},
   "source": [
    "Als we nu onze tests runnen zien we dat er 4 test geslaagd zijn.\n",
    "\n",
    "Maar wat hebben we nu eigenlijk gedaan. We laden de url, net zoals een user zou doen. En dan checken we of de response van deze `GET` voldoet aan een aantal voorwaarden. \n",
    "\n",
    "laten we even checken wat er gebeurd als we op onze  `index.html` het volgende veranderen (uitcommenten of verwijderen van `<p>No polls are available.</p>`)"
   ]
  },
  {
   "cell_type": "code",
   "execution_count": null,
   "metadata": {},
   "outputs": [],
   "source": [
    "...\n",
    "\n",
    "{% else %}\n",
    "    {% comment %} <p>No polls are available.</p> {% endcomment %}\n",
    "{% endif %}"
   ]
  },
  {
   "attachments": {},
   "cell_type": "markdown",
   "metadata": {},
   "source": [
    "Dan zien we dat deze test failed.\n",
    "\n",
    "We zien dus dat de test daadwerkelijk gaat kijken wat er op de pagina staat."
   ]
  },
  {
   "attachments": {},
   "cell_type": "markdown",
   "metadata": {},
   "source": [
    "We voegen nog een aantal tests toe. (vergeet niet om in `index.html` de tekst terug te zetten)"
   ]
  },
  {
   "cell_type": "code",
   "execution_count": null,
   "metadata": {},
   "outputs": [],
   "source": [
    "def test_past_question(self):\n",
    "    '''\n",
    "    pub_date in past -> display\n",
    "    '''\n",
    "    question = create_question(question_text='Past question.', days=-30)\n",
    "    response = self.client.get(reverse(\"polls:index\"))\n",
    "    self.assertQuerysetEqual(response.context['latest_question_list'], [question])"
   ]
  },
  {
   "attachments": {},
   "cell_type": "markdown",
   "metadata": {},
   "source": [
    "We maken specifiek voor onze test een Question aan, om onze \"test-database\" mee te vullen.\n",
    "\n"
   ]
  },
  {
   "cell_type": "code",
   "execution_count": null,
   "metadata": {},
   "outputs": [],
   "source": [
    "def test_future_question(self):\n",
    "    '''\n",
    "    pub_date in future -> do not display\n",
    "    '''\n",
    "    create_question(question_text='Past question.', days=30)\n",
    "    response = self.client.get(reverse(\"polls:index\"))\n",
    "    self.assertContains(response, 'No polls are available.')\n",
    "    self.assertQuerysetEqual(response.context['latest_question_list'], [])\n",
    "\n",
    "def test_future_and_past_questions(self):\n",
    "    '''\n",
    "    if both a future and past question exist -> only past is displayed\n",
    "    '''\n",
    "    question = create_question(question_text='Past question.', days=-30)\n",
    "    create_question(question_text='Past question.', days=30)\n",
    "    response = self.client.get(reverse(\"polls:index\"))\n",
    "    self.assertQuerysetEqual(response.context['latest_question_list'], [question])\n",
    "\n",
    "def test_2_past_questions(self):\n",
    "    question_1 = create_question(question_text='Past question 1.', days=-30)\n",
    "    question_2 = create_question(question_text='Past question 2.', days=-5)\n",
    "    response = self.client.get(reverse(\"polls:index\"))\n",
    "    self.assertQuerysetEqual(response.context['latest_question_list'], [question_2, question_1])"
   ]
  },
  {
   "attachments": {},
   "cell_type": "markdown",
   "metadata": {},
   "source": [
    "De database wordt bij elke test opniew \"gereset\"."
   ]
  },
  {
   "attachments": {},
   "cell_type": "markdown",
   "metadata": {},
   "source": [
    "## Testing the \"DetailView\"\n",
    "\n",
    "Users kunnen nu misschien niet meer de links zien naar de verschillende Questions, maar ze kunnen nog altijd de details zien als ze de juiste url ingeven.\n",
    "\n",
    "We moeten dus zorgen dat dit niet kan. Daarom voegen we ook bij de detailview een queryset bij."
   ]
  },
  {
   "cell_type": "code",
   "execution_count": null,
   "metadata": {},
   "outputs": [],
   "source": [
    "class DetailView(generic.DetailView):\n",
    "    model = Question\n",
    "    template_name = \"polls/detail.html\"\n",
    "\n",
    "    def get_queryset(self) -> QuerySet[Any]:\n",
    "        return Question.objects.filter(pub_date__lte=timezone.now())"
   ]
  },
  {
   "attachments": {},
   "cell_type": "markdown",
   "metadata": {},
   "source": [
    "We voegen nu tests toe om te checken of deze methode er inderdaad voor zorgt dat we de detail-pagina van de Questions met een \"future date\" niet kunnen bereiken. Maar wel een past question."
   ]
  },
  {
   "cell_type": "code",
   "execution_count": null,
   "metadata": {},
   "outputs": [],
   "source": [
    "class QuestionDetailViewTests(TestCase):\n",
    "\n",
    "    def test_future_question(self):\n",
    "        '''\n",
    "        Detail future question -> 404 error\n",
    "        '''\n",
    "        future_question = create_question(question_text=\"Future question\", days=5)\n",
    "        url = reverse('polls:detail', args=(future_question.id,))\n",
    "        response = self.client.get(url)\n",
    "        self.assertEqual(response.status_code, 404)\n",
    "    \n",
    "    def test_past_question(self):\n",
    "        '''\n",
    "        Detail past question \n",
    "        '''\n",
    "        past_question = create_question(question_text=\"Past Question\",  days=-5)\n",
    "        url = reverse('polls:detail', args=(past_question.id,))\n",
    "        response = self.client.get(url)\n",
    "        self.assertContains(response, past_question.question_text)"
   ]
  },
  {
   "attachments": {},
   "cell_type": "markdown",
   "metadata": {},
   "source": [
    "in de `test_future_question` doen we het volgende:\n",
    "\n",
    "* we maken Question in de toekomst\n",
    "* we maken de url via \"reverse\" (al het geen dat na het 'domain' komt) + halen de url op via \"get\"\n",
    "* we checken of de status_code 404 is\n",
    "\n",
    "\n",
    "Met de Question uit het verleden checken we of de text van de vraag in de \"response\" zit."
   ]
  },
  {
   "attachments": {},
   "cell_type": "markdown",
   "metadata": {},
   "source": [
    "## Nog ideeën om te testen\n",
    "\n",
    "Nog een aantal ideën die we zelf kunnen proberen als oefening:\n",
    "\n",
    "* We zouden de `get_queryset` van de 'ResultsView' ook kunnen aanpassen zoals bij de DetailView.\n",
    "* We zouden ook kunnen voorzien dat \"Questions\" enkel kunnen getoont worden wanneer ze een \"Choice\" hebben.\n",
    "* We willen dat admins wel de 'unpublished questions' kunnen zien. Maar gewone gebruikers niet."
   ]
  },
  {
   "attachments": {},
   "cell_type": "markdown",
   "metadata": {},
   "source": [
    "## Meer is beter\n",
    "\n",
    "Het is over het algemeen altijd beter om meer tests te hebben.\n",
    "\n",
    "éénmaal geschreven zal je een test normaal niet meer moeten aanpassen.\n",
    "\n",
    "gebruik een TestCase per model / view"
   ]
  }
 ],
 "metadata": {
  "language_info": {
   "name": "python"
  },
  "orig_nbformat": 4
 },
 "nbformat": 4,
 "nbformat_minor": 2
}
