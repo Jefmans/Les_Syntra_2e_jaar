{
 "cells": [
  {
   "attachments": {},
   "cell_type": "markdown",
   "metadata": {},
   "source": [
    "# A minimal form\n",
    "\n",
    "We veranderen de code  aan de `detail.html` door met een form element te werken.\n"
   ]
  },
  {
   "cell_type": "code",
   "execution_count": null,
   "metadata": {
    "vscode": {
     "languageId": "html"
    }
   },
   "outputs": [],
   "source": [
    "<form action=\"{% url 'polls:vote' question.id %}\" method=\"post\">\n",
    "    {% csrf_token %}\n",
    "    <fieldset>\n",
    "        <legend>\n",
    "            <h1>{{question.question_text}}</h1>\n",
    "        </legend>\n",
    "        {% if error_message %} \n",
    "            <p><strong>{{error_message}}</strong></p>\n",
    "        {% endif %}\n",
    "\n",
    "        {% for choice in question.choice_set.all %}\n",
    "            <input type=\"radio\" name=\"choice\" id=\"choice{{ forloop.counter }}\" value=\"{{ choice.id }}\">\n",
    "            <label for=\"choice{{ forloop.counter }}\">{{choice.choice_text}}</label>\n",
    "            <br>\n",
    "        {% endfor %}\n",
    "            \n",
    "    </fieldset>\n",
    "    <input type=\"submit\" value=\"Vote\">\n",
    "</form>"
   ]
  },
  {
   "attachments": {},
   "cell_type": "markdown",
   "metadata": {},
   "source": [
    "Je kan via developer tools zien hoe de bovenstaande code wordt omgezet naar HTML.\n",
    "\n",
    "je krijgt voor elke choice een raxdio-button.\n",
    "\n",
    "<form> heeft als method POST. (je kan ook nog de method GET hebben)\n",
    "POST => stuurt data naar de server\n",
    "\n",
    "de tag ``{% csrf_token %}``  is verplicht toe te voegen. Je kan via \"developer tools => application => cookies\" de crsftoken zien. Deze dient om users te beschermen tegen \"Cross Site Request Forgeries\" wat bij \"POST\" zou kunnen gebeuren.\n",
    "\n",
    "de \"name\" van elke keuze is \"choice\". Als iemand de radiobutton kiest en op de knop drukt, dan zal deze de \"POST\" data  \"choice=#\" doorsturen. Met # == aan de value van de keuze.\n",
    "\n",
    "\n",
    "de form heeft als action = \"{% url 'polls:vote' question.id %}\"\n",
    "dit zal na het indienen (submit) van het formulier naar dit adres gaan.\n",
    "\n",
    "{{ forloop.counter }} => houdt een counter bij van de iteraties van de loop."
   ]
  },
  {
   "attachments": {},
   "cell_type": "markdown",
   "metadata": {},
   "source": [
    "De url voor onze \"vote\" bestaat al.\n",
    "\n",
    "Nu maken we nog de view voor onze vote.\n",
    "\n",
    "Vooraleer we verder gaan, zullen we eerst onze request eens onderzoeken. \n",
    "We beginnen met de request zelf.\n",
    "Voor meer info check `https://docs.djangoproject.com/en/4.2/ref/request-response/`"
   ]
  },
  {
   "cell_type": "code",
   "execution_count": null,
   "metadata": {},
   "outputs": [],
   "source": [
    "def vote(request, question_id):\n",
    "    try:\n",
    "        print(request)\n",
    "    \n",
    "        print(request.scheme)\n",
    "\n",
    "        print(\"body:\", request.body)\n",
    "\n",
    "        print(request.GET)\n",
    "        print(request.POST) # is een object zoals een dictionary\n",
    "        print(request.POST[\"choice\"])\n",
    "\n",
    "        print(\"method:\", request.method)\n",
    "\n",
    "        print(\"encoding:\", request.encoding)\n",
    "\n",
    "        print(\"headers - useragent:\", request.headers[\"User-Agent\"])\n",
    "    except:\n",
    "        print(\"xxxxxxxxxxxxxxxxxxxxxxxxxxxxxxxxxx\")\n",
    "\n",
    "    return HttpResponse(f\"You're voting on question {question_id}.\")"
   ]
  },
  {
   "attachments": {},
   "cell_type": "markdown",
   "metadata": {},
   "source": [
    "Nu updaten we onze functie zodat we de vote kunnen aanpassen in onze database.\n",
    "\n",
    "Eerst importeren we nog een aantal extra functies, klasses:"
   ]
  },
  {
   "cell_type": "code",
   "execution_count": null,
   "metadata": {},
   "outputs": [],
   "source": [
    "from django.urls import reverse\n",
    "from django.http import HttpResponseRedirect\n"
   ]
  },
  {
   "attachments": {},
   "cell_type": "markdown",
   "metadata": {},
   "source": [
    "Nu passen we de view aan:\n",
    "\n",
    "We beginnen met de redirect toe te voegen aan de vote.\n",
    "Deze gebruiken we om op dezelde manier als binnen de templates een dynamische verwijzing naar bepaalde urls te maken.\n",
    "We moeten de urls niet hard-coderen."
   ]
  },
  {
   "cell_type": "code",
   "execution_count": null,
   "metadata": {},
   "outputs": [],
   "source": [
    "def vote(request, question_id):\n",
    "\n",
    "    return HttpResponseRedirect(reverse('polls:results', args=(question_id,)))"
   ]
  },
  {
   "attachments": {},
   "cell_type": "markdown",
   "metadata": {},
   "source": [
    "Eerst zoeken we de juiste data uit de DB. (Hoe?)\n",
    "\n",
    "Hoe kunnen we alle choices van onze question te weten komen ?"
   ]
  },
  {
   "cell_type": "code",
   "execution_count": null,
   "metadata": {},
   "outputs": [],
   "source": [
    "def vote(request, question_id):\n",
    "    question = get_object_or_404(Question, pk = question_id)\n",
    "    print(question.choice_set.all())\n",
    "\n",
    "    return HttpResponseRedirect(reverse('polls:results', args=(question_id,)))\n"
   ]
  },
  {
   "attachments": {},
   "cell_type": "markdown",
   "metadata": {},
   "source": [
    "Nu proberen we enkel die choice te kiezen die we in onze form hebben gekozen.\n"
   ]
  },
  {
   "cell_type": "code",
   "execution_count": null,
   "metadata": {},
   "outputs": [],
   "source": [
    "def vote(request, question_id):\n",
    "    question = get_object_or_404(Question, pk = question_id)\n",
    "    selected_choice = question.choice_set.get(pk=request.POST[\"choice\"])\n",
    "    print(selected_choice)\n",
    "    \n",
    "    return HttpResponseRedirect(reverse('polls:results', args=(question_id,)))"
   ]
  },
  {
   "attachments": {},
   "cell_type": "markdown",
   "metadata": {},
   "source": [
    "Dit werkt niet wanneer we geen keuze maken en enkel op de vote knop drukken. \n",
    "\n",
    "Hoe kunnen we dit oplossen?"
   ]
  },
  {
   "cell_type": "code",
   "execution_count": null,
   "metadata": {},
   "outputs": [],
   "source": [
    "def vote(request, question_id):\n",
    "    question = get_object_or_404(Question, pk = question_id)\n",
    "    try:\n",
    "        selected_choice = question.choice_set.get(pk=request.POST[\"choice\"])\n",
    "    except (KeyError, Choice.DoesNotExist):\n",
    "        return HttpResponse(f\"You're voting on question {question_id}.\")\n",
    "    return HttpResponseRedirect(reverse('polls:results', args=(question_id,)))"
   ]
  },
  {
   "attachments": {},
   "cell_type": "markdown",
   "metadata": {},
   "source": [
    "request.POST['choice'] zal een `KeyError` oproepen wanneer 'choice' niet voorzien werd in de POST data."
   ]
  },
  {
   "attachments": {},
   "cell_type": "markdown",
   "metadata": {},
   "source": [
    "door een try toe te voegen zal de \"selected_choice\" enkel worden gekozen wanneer er ook een \"request.POST['choice']\" is.\n",
    "\n",
    "Wanneer we geen keuze maken sturen we een text naar onze pagina.\n",
    "\n",
    "Dit laatste willen we veranderen naar de logica dat:\n",
    "* als we geen keuze maken => blijven we op de pagina"
   ]
  },
  {
   "cell_type": "code",
   "execution_count": null,
   "metadata": {},
   "outputs": [],
   "source": [
    "def vote(request, question_id):\n",
    "    question = get_object_or_404(Question, pk = question_id)\n",
    "    try:\n",
    "        selected_choice = question.choice_set.get(pk=request.POST[\"choice\"])\n",
    "    except (KeyError, Choice.DoesNotExist):\n",
    "        context = {\n",
    "            \"question\" : question\n",
    "        }\n",
    "        return render(request, \"polls/detail.html\", context)\n",
    "    \n",
    "\n",
    "    return HttpResponseRedirect(reverse('polls:results', args=(question_id,)))"
   ]
  },
  {
   "attachments": {},
   "cell_type": "markdown",
   "metadata": {},
   "source": [
    "Een andere manier is via `redirect()`"
   ]
  },
  {
   "cell_type": "code",
   "execution_count": null,
   "metadata": {},
   "outputs": [],
   "source": [
    "from django.shortcuts import redirect\n",
    "\n",
    "\n",
    "\n",
    "def vote(request, question_id):\n",
    "    question = get_object_or_404(Question, pk = question_id)\n",
    "    try:\n",
    "        selected_choice = question.choice_set.get(pk=request.POST[\"choice\"])\n",
    "    except (KeyError, Choice.DoesNotExist):\n",
    "        return redirect(\"polls:detail\", question_id)\n",
    "    \n",
    "    return HttpResponseRedirect(reverse('polls:results', args=(question_id,)))"
   ]
  },
  {
   "attachments": {},
   "cell_type": "markdown",
   "metadata": {},
   "source": [
    "Het nadeel t.o.v. de vorige methode is dat we nu zowel in deze view (vote) als in de \"detail\"-view opnieuw de Question gaan halen in de DB.\n",
    "\n",
    "Daarom is de vorige dus eigenlijk beter.\n",
    "\n",
    "Nu willen we onze choice saven in de DB.  Hoe doen we dat ?"
   ]
  },
  {
   "cell_type": "code",
   "execution_count": null,
   "metadata": {},
   "outputs": [],
   "source": [
    "def vote(request, question_id):\n",
    "    question = get_object_or_404(Question, pk = question_id)\n",
    "    try:\n",
    "        selected_choice = question.choice_set.get(pk=request.POST[\"choice\"])\n",
    "    except (KeyError, Choice.DoesNotExist):\n",
    "        context = {\n",
    "            \"question\" : question\n",
    "        }\n",
    "        return render(request, \"polls/detail.html\", context)\n",
    "    \n",
    "    selected_choice.votes += 1\n",
    "    selected_choice.save()\n",
    "    return HttpResponseRedirect(reverse('polls:results', args=(question_id,)))"
   ]
  },
  {
   "attachments": {},
   "cell_type": "markdown",
   "metadata": {},
   "source": [
    "Nu dat de `vote()` volledig is, maken we de `results()` view en de `results.html` -file."
   ]
  },
  {
   "cell_type": "code",
   "execution_count": null,
   "metadata": {},
   "outputs": [],
   "source": [
    "def results(request, question_id):\n",
    "    question = get_object_or_404(Question, pk=question_id)\n",
    "    context = {\"question\" : question}\n",
    "    return render(request, \"polls/results.html\", context)"
   ]
  },
  {
   "attachments": {},
   "cell_type": "markdown",
   "metadata": {},
   "source": [
    "Deze view verschilt amper van de \"detail\" view.\n",
    "\n",
    "Deze redundantie zullen we later proberen oplossen."
   ]
  },
  {
   "cell_type": "code",
   "execution_count": null,
   "metadata": {
    "vscode": {
     "languageId": "html"
    }
   },
   "outputs": [],
   "source": [
    "<h1>{{ question.question_text }}</h1>\n",
    "\n",
    "<ul>\n",
    "    {% for choice in question.choice_set.all %}\n",
    "        <li>\n",
    "            {{ choice.choice_text }} -- {{ choice.votes }} vote{{ choice.votes|pluralize }}\n",
    "        </li>\n",
    "    {% endfor %}    \n",
    "</ul>\n",
    "\n",
    "<a href=\"{% url 'polls:detail' question.id %}\"> Vote again ? </a>"
   ]
  },
  {
   "attachments": {},
   "cell_type": "markdown",
   "metadata": {},
   "source": [
    "De `|pluralize` in `{{ choice.votes|pluralize }}` is een built-in template tag. \n",
    "\n",
    "Je kan de werking hiervan terugvinden op `https://docs.djangoproject.com/en/4.2/ref/templates/builtins/#pluralize`.\n",
    "\n",
    "Je kan ook verschillende andere built-in template tags terugvinden. Deze tags kunnen extra functionaliteit voorzien in de template language."
   ]
  },
  {
   "attachments": {},
   "cell_type": "markdown",
   "metadata": {},
   "source": [
    "## Generic Views\n",
    "\n",
    "zowel `detail()`, `results()` als `index()` zijn zeer kort.\n",
    "\n",
    "Het zijn in feite een type van views dat regelmatig wordt gebruikt. \n",
    "Daarvoor bestaan dan ook generieke views die in Django zijn voorzien. (klasses)\n",
    "\n",
    "We passen onze views aan:"
   ]
  },
  {
   "cell_type": "code",
   "execution_count": null,
   "metadata": {},
   "outputs": [],
   "source": [
    "from django.views import generic\n",
    "\n",
    "\n",
    "class IndexView(generic.ListView):\n",
    "    template_name = \"polls/index.html\"\n",
    "    context_object_name = \"latest_question_list\"\n",
    "\n",
    "    def get_queryset(self) -> QuerySet[Any]:\n",
    "        return Question.objects.order_by(\"-pub_date\")[:3]\n",
    "\n",
    "class DetailView(generic.DetailView):\n",
    "    model = Question\n",
    "    template_name = \"polls/detail.html\"\n",
    "\n",
    "class RestultsView(generic.DetailView):\n",
    "    model = Question\n",
    "    template_name = \"polls/results.html\""
   ]
  },
  {
   "attachments": {},
   "cell_type": "markdown",
   "metadata": {},
   "source": [
    "We moeten ook nog onze urls aanpassen:"
   ]
  },
  {
   "cell_type": "code",
   "execution_count": null,
   "metadata": {},
   "outputs": [],
   "source": [
    "from django.urls import path\n",
    "from . import views\n",
    "\n",
    "app_name = \"polls\"\n",
    "urlpatterns = [\n",
    "    path(\"\", views.IndexView.as_view(), name=\"index\"),\n",
    "    path(\"<int:question_id>/\", views.DetailView.as_view(), name=\"detail\"),\n",
    "    path(\"<int:question_id>/results/\", views.RestultsView.as_view(), name=\"results\"),\n",
    "    path(\"<int:question_id>/vote/\", views.vote, name=\"vote\"),\n",
    "    path(\"test_db\", views.test_db, name=\"test_db\"),\n",
    "]"
   ]
  },
  {
   "attachments": {},
   "cell_type": "markdown",
   "metadata": {},
   "source": [
    "we gebruiken de klasse-views, waarachter we wel `as_view()` moeten gebruiken. \n",
    "\n",
    "We proberen nu ons programma te runnen. Waaromlukt dit niet ?"
   ]
  },
  {
   "cell_type": "code",
   "execution_count": null,
   "metadata": {
    "vscode": {
     "languageId": "shellscript"
    }
   },
   "outputs": [],
   "source": [
    "raise AttributeError(\n",
    "AttributeError: Generic detail view RestultsView must be called with either an object pk or a slug in the URLconf."
   ]
  },
  {
   "attachments": {},
   "cell_type": "markdown",
   "metadata": {},
   "source": [
    "We moeten onze question_id vervangen door de pk"
   ]
  },
  {
   "cell_type": "code",
   "execution_count": null,
   "metadata": {},
   "outputs": [],
   "source": [
    "path(\"<int:pk>/\", views.DetailView.as_view(), name=\"detail\"),\n",
    "path(\"<int:pk>/results/\", views.RestultsView.as_view(), name=\"results\"),"
   ]
  },
  {
   "attachments": {},
   "cell_type": "markdown",
   "metadata": {},
   "source": [
    "Bij een `DetailView` is de default template: \"<app_name>/<model_name>_detail.html\", dus bij onze `detail()` & `result()` -view zou dat dus `polls/question_detail.html` zijn. We overschrijven `template_name` hiervoor.\n",
    "\n",
    "Er wordt automatisch \"question\" toegevoegd aan de context. Dat is de naam van het model.\n",
    "\n",
    "Bij de ListView is dat \"<model_name>_list\" dus zou hier \"question_list\" zijn. Aangezien we in onze template al latest_question_list hebben gebruikt, overschrijven we deze door `context_object_name` te overschrijven.\n",
    "\n",
    "\n",
    "Zowel `template_name` als `context_object_name` kunnen in alle Generic Views worden overschreven.\n"
   ]
  }
 ],
 "metadata": {
  "language_info": {
   "name": "python"
  },
  "orig_nbformat": 4
 },
 "nbformat": 4,
 "nbformat_minor": 2
}
