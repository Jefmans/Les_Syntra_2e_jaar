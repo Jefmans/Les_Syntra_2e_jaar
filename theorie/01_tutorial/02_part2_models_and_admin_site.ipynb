{
 "cells": [
  {
   "attachments": {},
   "cell_type": "markdown",
   "metadata": {},
   "source": [
    "# Models + Admin\n",
    "\n",
    "In de `models.py` file beschrijven we het data-model van onze app.\n",
    "\n",
    "## Database setup\n",
    "\n",
    "Eerst kijken we naar de `settings.py` file.\n",
    "\n",
    "Hierin vinden we de settings van de database terug."
   ]
  },
  {
   "cell_type": "code",
   "execution_count": null,
   "metadata": {},
   "outputs": [],
   "source": [
    "# Database\n",
    "# https://docs.djangoproject.com/en/4.2/ref/settings/#databases\n",
    "\n",
    "DATABASES = {\n",
    "    'default': {\n",
    "        'ENGINE': 'django.db.backends.sqlite3',\n",
    "        'NAME': BASE_DIR / 'db.sqlite3',\n",
    "    }\n",
    "}\n"
   ]
  },
  {
   "attachments": {},
   "cell_type": "markdown",
   "metadata": {},
   "source": [
    "We zien dat Django standaard gebruik maakt van \"SQLite3\".\n",
    "\n",
    "Deze database is perfect om mee te werken tijdens de development fase.\n",
    "\n",
    "Wanneer je niet \"SQLite\" gebruikt voegen we naast `ENGINE` en `NAME` ook nog `USER`, `PASSWORD` & `HOST` toe. Maar hier komen we later op terug. Voorlopig is \"SQLite\" dus voldoende om mee te werken."
   ]
  },
  {
   "attachments": {},
   "cell_type": "markdown",
   "metadata": {},
   "source": [
    "In de `settings.py` vind je bovenaan ook de `INSTALLED_APPS` terug. Hier zie je nu de standaard apps die door Django worden gebruikt."
   ]
  },
  {
   "cell_type": "code",
   "execution_count": null,
   "metadata": {},
   "outputs": [],
   "source": [
    "INSTALLED_APPS = [\n",
    "    'django.contrib.admin',\n",
    "    'django.contrib.auth',\n",
    "    'django.contrib.contenttypes',\n",
    "    'django.contrib.sessions',\n",
    "    'django.contrib.messages',\n",
    "    'django.contrib.staticfiles',\n",
    "]"
   ]
  },
  {
   "attachments": {},
   "cell_type": "markdown",
   "metadata": {},
   "source": [
    "* django.contrib.admin          – The admin site.\n",
    "* django.contrib.auth           – An authentication system.\n",
    "* django.contrib.contenttypes   – A framework for content types.\n",
    "* django.contrib.sessions       – A session framework.\n",
    "* django.contrib.messages       – A messaging framework.\n",
    "* django.contrib.staticfiles    – A framework for managing static files."
   ]
  },
  {
   "attachments": {},
   "cell_type": "markdown",
   "metadata": {},
   "source": [
    "Sommige van deze apps maken gebruik van database tabellen.\n",
    "\n",
    "We hebben onze database echter nog niet geïntialiseerd. \n",
    "\n",
    "We kunnen checken welke database acties er reeds zijn uitgevoerd. Of staan te wachten."
   ]
  },
  {
   "cell_type": "code",
   "execution_count": null,
   "metadata": {
    "vscode": {
     "languageId": "shellscript"
    }
   },
   "outputs": [],
   "source": [
    "python manage.py showmigrations"
   ]
  },
  {
   "attachments": {},
   "cell_type": "markdown",
   "metadata": {},
   "source": [
    "We kunnen deze migraties uitvoeren door:"
   ]
  },
  {
   "cell_type": "code",
   "execution_count": null,
   "metadata": {
    "vscode": {
     "languageId": "shellscript"
    }
   },
   "outputs": [],
   "source": [
    "python manage.py migrate"
   ]
  },
  {
   "attachments": {},
   "cell_type": "markdown",
   "metadata": {},
   "source": [
    "We kunnen nu een sqlite database viewer / editor downloaden.  (https://sqlitebrowser.org)\n",
    "\n",
    "En nu kunnen we kijken welke tabellen en velden er allemaal zijn aangemaakt/"
   ]
  },
  {
   "attachments": {},
   "cell_type": "markdown",
   "metadata": {},
   "source": [
    "## Opmaken Polls model\n",
    "\n",
    "In onze `models.py`-file definiëren we nu de data die we willen gebruiken.\n",
    "\n",
    "We schrijven:\n"
   ]
  },
  {
   "cell_type": "code",
   "execution_count": null,
   "metadata": {},
   "outputs": [],
   "source": [
    "from django.db import models\n",
    "\n",
    "# Create your models here.\n",
    "class Question(models.Model):\n",
    "    question_text = models.CharField(max_length=200)\n",
    "    pub_date = models.DateTimeField(\"date published\")\n",
    "\n",
    "class Choice(models.Model):\n",
    "    question = models.ForeignKey(Question, on_delete=models.CASCADE)\n",
    "    choice_text = models.CharField(max_length=200)\n",
    "    votes = models.IntegerField(default=0)"
   ]
  },
  {
   "attachments": {},
   "cell_type": "markdown",
   "metadata": {},
   "source": [
    "Elke class zal worden omgezet naar een tabel in de database.\n",
    "\n",
    "Binnen elk van deze klassen definiëren we de velden (kolommen) die deel van de tabel zullen uitmaken.\n",
    "De naam van het veld (bv. question_text) is de naam die wij binnen in de python code zullen gebruiken. Het is ook de kolom-naam in de database.\n",
    "\n",
    "<Kort uitleggen wat de verschillende velden beteken, alsook de argumenten>\n",
    "\n",
    "https://docs.djangoproject.com/en/4.2/ref/models/fields/"
   ]
  },
  {
   "attachments": {},
   "cell_type": "markdown",
   "metadata": {},
   "source": [
    "als we `python manage.py makemigrations` runnen, gebeurt er nog niets.\n",
    "\n",
    "We moeten eerst onze app toevoegen aan de `INSTALLED_APPS` in onze `settings.py`.\n",
    "\n",
    "we doen dit door het volgende `\"polls.apps.PollsConfig\",` toe te voegen."
   ]
  },
  {
   "attachments": {},
   "cell_type": "markdown",
   "metadata": {},
   "source": [
    "Wanneer we nu `python manage.py makemigrations` uitvoeren, dan zullen we zien dat ons model wordt klaar gezet voor de migratie.\n",
    "\n",
    "dit commando zal zoeken naar alle mogelijke veranderingen. Wanneer je echter alleen de \"polls\" veranderingen wil uitvoeren kan je ook `python manage.py makemigrations polls` runnen.\n",
    "\n",
    "Als we nu onze DB viewer terug openen, zien we dat de polls tabellen ook terugvinden.\n",
    "Nu zien we dat er naast de aangemaakte velden ook automatisch een id veld wordt aangemaakt, de primary key. (dit is een auto-increment veld)"
   ]
  },
  {
   "attachments": {},
   "cell_type": "markdown",
   "metadata": {},
   "source": [
    "Voor diegenen die graag de SQL code willen zien die wordt gebruikt bij deze migratie kan het volgende commando uitvoeren `python manage.py sqlmigrate polls 0001`. \n",
    "\n",
    "We zien in de folder `migrations` de file `0001_initial.py` die deze query aanmaakt.\n",
    "\n",
    "De exacte SQL-query syntax zal afhangen van de database die je in je settings hebt gedefinieerd.\n",
    "\n",
    "je kan ook nog `python manage.py check` gebruiken om te weten te kopen of er issues zijn met potentiële migraties. Zonder een migratie te hoeen uitvoeren of veranderingen in de database uit te voeren."
   ]
  },
  {
   "attachments": {},
   "cell_type": "markdown",
   "metadata": {},
   "source": [
    "Django biedt je dus de mogelijkheid om je modellen aan te passen en door te voeren in je database. Dit zonder verlies aan data. \n",
    "\n",
    "Belangrijk is de volgende 3 stappen te onthouden:\n",
    "1. aanpassen model\n",
    "2. run `python manage.py makemigrations`\n",
    "3. run `python manage.py migrate`\n"
   ]
  },
  {
   "attachments": {},
   "cell_type": "markdown",
   "metadata": {},
   "source": [
    "## Django Admin\n",
    "\n",
    "Via de Django admin geef je klant de mogelijkheid om op een gebruiksvriendelijke manier de data van applicatie te zien en aan te passen.\n",
    "\n",
    "Als we onze server opnieuw opstarten `python manage.py runserver` en we gaan naar `http://127.0.0.1:8000/admin/` zien we de login voor deze ADMIN.\n",
    "\n",
    "We hebben natuurlijk nog geen users aangemaakt, dus daarom moeten we eerst het volgende command runnen.\n",
    "`python manage.py createsuperuser`\n",
    "\n",
    "als username: `admin`\n",
    "pasword: `admin`\n",
    "\n",
    "(we gebruiken dit \"paswoord\" enkel in development. In productie zorg je best voor een vele sterker.)\n",
    "\n",
    "Nu kunnen we inloggen op onze admin site."
   ]
  },
  {
   "attachments": {},
   "cell_type": "markdown",
   "metadata": {},
   "source": [
    "We zien `Groups` & `Users`, maar nog niet onze `Questions` & `Choices`.\n",
    "\n",
    "Daarvoor moeten we in de file `admin.py` de volgende code toevoegen:"
   ]
  },
  {
   "cell_type": "code",
   "execution_count": null,
   "metadata": {},
   "outputs": [],
   "source": [
    "from django.contrib import admin\n",
    "\n",
    "from .models import Question, Choice\n",
    "\n",
    "admin.site.register(Question)\n",
    "admin.site.register(Choice)"
   ]
  },
  {
   "attachments": {},
   "cell_type": "markdown",
   "metadata": {},
   "source": [
    "We kunnen nu een Question toevoegen. via onze admin-site.\n",
    "\n",
    "Question:\n",
    "    question_text = \"What's up?\"\n",
    "    pub_date = \"now\"\n",
    "\n",
    "We zien nu in de admin-site dat er Question is. Maar de representatie is niet echt heel leesbaar.\n",
    "\n",
    "We voegen bij de Model-klass een \"__str__\" methode toe."
   ]
  },
  {
   "cell_type": "code",
   "execution_count": null,
   "metadata": {},
   "outputs": [],
   "source": [
    "def __str__(self):\n",
    "    return self.question_text"
   ]
  },
  {
   "attachments": {},
   "cell_type": "markdown",
   "metadata": {},
   "source": [
    "We zien nu ook dat in onze admin-site de \"Question(1)\" vervangen is door de \"question_text\".\n",
    "\n",
    "\n",
    "We doen het zelfde met de Choice - klasse"
   ]
  },
  {
   "cell_type": "code",
   "execution_count": null,
   "metadata": {},
   "outputs": [],
   "source": [
    "def __str__(self) -> str:\n",
    "    return self.choice_text"
   ]
  },
  {
   "attachments": {},
   "cell_type": "markdown",
   "metadata": {},
   "source": []
  }
 ],
 "metadata": {
  "language_info": {
   "name": "python"
  },
  "orig_nbformat": 4
 },
 "nbformat": 4,
 "nbformat_minor": 2
}
