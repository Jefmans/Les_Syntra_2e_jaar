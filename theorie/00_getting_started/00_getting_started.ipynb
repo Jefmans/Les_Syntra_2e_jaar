{
 "cells": [
  {
   "attachments": {},
   "cell_type": "markdown",
   "metadata": {},
   "source": [
    "# Getting started\n",
    "\n",
    "Django is een framework om webapplicaties te bouwen.\n",
    "\n",
    "Zulke frameworks bestaan in alle talen. Deze gebruiken dikwijls de MVC approach. (Model View Control)\n",
    "\n",
    "* Model     => de data structure \n",
    "* View      => hoe de data wordt getoond\n",
    "* Controller => krijgt een input en vertaald dit naar een command voor de model of view\n",
    "\n",
    "\n",
    "Bij django gebruiken we het volgende systeem, dat vergelijkbaar is met de MVC van hierboven:\n",
    "* Model\n",
    "* Templates  => hoe we de data presenteren\n",
    "* Views      => definieert welke data wordt getoond\n",
    "\n",
    "Je zou django dus een MTV kunnen noemen.\n",
    "\n",
    "Hier komen we later uitgebreid op terug."
   ]
  },
  {
   "attachments": {},
   "cell_type": "markdown",
   "metadata": {},
   "source": [
    "# Virtuele omgeving + install django\n",
    "\n",
    "We maken eerst een folder aan waarin we ons project zullen plaatsen. We noemen deze folder \"polls\".\n",
    "\n",
    "Nu openen we vanuit deze folder de Terminal (CMD). En dan maken we een virtuele omgeving.\n"
   ]
  },
  {
   "cell_type": "code",
   "execution_count": null,
   "metadata": {
    "vscode": {
     "languageId": "shellscript"
    }
   },
   "outputs": [],
   "source": [
    "python -m venv venv"
   ]
  },
  {
   "attachments": {},
   "cell_type": "markdown",
   "metadata": {},
   "source": [
    "We activeren deze venv.\n",
    "\n",
    "En we installeren hierin dan django."
   ]
  },
  {
   "cell_type": "code",
   "execution_count": null,
   "metadata": {
    "vscode": {
     "languageId": "shellscript"
    }
   },
   "outputs": [],
   "source": [
    "pip install django"
   ]
  },
  {
   "attachments": {},
   "cell_type": "markdown",
   "metadata": {},
   "source": [
    "In onze terminal naar de polls folder \"cd..\"\n",
    "\n",
    "we kunnen onze versie checken van django."
   ]
  },
  {
   "cell_type": "code",
   "execution_count": null,
   "metadata": {
    "vscode": {
     "languageId": "shellscript"
    }
   },
   "outputs": [],
   "source": [
    "python -m django version"
   ]
  }
 ],
 "metadata": {
  "language_info": {
   "name": "python"
  },
  "orig_nbformat": 4
 },
 "nbformat": 4,
 "nbformat_minor": 2
}
