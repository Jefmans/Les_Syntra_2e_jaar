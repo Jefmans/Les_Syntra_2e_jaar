{
 "cells": [
  {
   "cell_type": "code",
   "execution_count": null,
   "metadata": {},
   "outputs": [],
   "source": [
    "import requests\n",
    "from bs4 import BeautifulSoup, Script\n",
    "\n",
    "\n",
    "base_url = \"https://www.syntra.be\"\n",
    "\n",
    "\n",
    "r = requests.get(base_url)\n",
    "soup = BeautifulSoup(r.text, 'html.parser')"
   ]
  },
  {
   "cell_type": "code",
   "execution_count": null,
   "metadata": {},
   "outputs": [],
   "source": [
    "title = soup.find('title')\n",
    "\n",
    "print(title)\n",
    "print(title.text)"
   ]
  },
  {
   "cell_type": "code",
   "execution_count": null,
   "metadata": {},
   "outputs": [],
   "source": [
    "body = soup.find('body')\n",
    "print(body.prettify())"
   ]
  },
  {
   "cell_type": "code",
   "execution_count": null,
   "metadata": {},
   "outputs": [],
   "source": [
    "list_item = soup.find('li')\n",
    "print(list_item)"
   ]
  },
  {
   "cell_type": "code",
   "execution_count": null,
   "metadata": {},
   "outputs": [],
   "source": [
    "soup.li"
   ]
  },
  {
   "cell_type": "code",
   "execution_count": null,
   "metadata": {},
   "outputs": [],
   "source": [
    "first_list_item = soup.li\n",
    "\n",
    "first_list_item.name = 'my_first_list_item'"
   ]
  },
  {
   "cell_type": "code",
   "execution_count": null,
   "metadata": {},
   "outputs": [],
   "source": [
    "first_list_item"
   ]
  },
  {
   "cell_type": "code",
   "execution_count": null,
   "metadata": {},
   "outputs": [],
   "source": [
    "first_list_item.attrs"
   ]
  },
  {
   "cell_type": "code",
   "execution_count": null,
   "metadata": {},
   "outputs": [],
   "source": [
    "first_link = soup.a\n",
    "\n",
    "print(first_link)\n",
    "print(first_link.attrs)"
   ]
  },
  {
   "cell_type": "code",
   "execution_count": null,
   "metadata": {},
   "outputs": [],
   "source": [
    "print(first_link['class'])\n",
    "print(first_link['href'])"
   ]
  },
  {
   "cell_type": "code",
   "execution_count": null,
   "metadata": {},
   "outputs": [],
   "source": [
    "type(first_link.string)"
   ]
  },
  {
   "cell_type": "code",
   "execution_count": null,
   "metadata": {},
   "outputs": [],
   "source": [
    "first_link_of_main = soup.main.a\n",
    "\n",
    "print(first_link_of_main)"
   ]
  },
  {
   "cell_type": "code",
   "execution_count": null,
   "metadata": {},
   "outputs": [],
   "source": [
    "menu = soup.body.nav.ul\n",
    "\n",
    "print(menu.prettify())"
   ]
  },
  {
   "cell_type": "code",
   "execution_count": null,
   "metadata": {},
   "outputs": [],
   "source": [
    "content_of_menu = menu.contents\n",
    "\n",
    "print(content_of_menu)\n"
   ]
  },
  {
   "cell_type": "code",
   "execution_count": null,
   "metadata": {},
   "outputs": [],
   "source": [
    "for content in content_of_menu:\n",
    "    print(content)\n",
    "    print('-------')"
   ]
  },
  {
   "cell_type": "code",
   "execution_count": null,
   "metadata": {},
   "outputs": [],
   "source": [
    "for child in menu.children:\n",
    "    print(child)\n",
    "    print('--------------')"
   ]
  },
  {
   "cell_type": "code",
   "execution_count": null,
   "metadata": {},
   "outputs": [],
   "source": [
    "for child in soup.nav.children:\n",
    "    print(child)\n",
    "    print('-------------------')"
   ]
  },
  {
   "cell_type": "code",
   "execution_count": null,
   "metadata": {},
   "outputs": [],
   "source": [
    "all_links = soup.find_all('a')\n",
    "print(all_links)\n"
   ]
  },
  {
   "cell_type": "code",
   "execution_count": 73,
   "metadata": {},
   "outputs": [
    {
     "name": "stdout",
     "output_type": "stream",
     "text": [
      "<a aria-current=\"page\" class=\"elementor-item elementor-item-active\" href=\"https://www.syntra.be/\">Home</a>\n",
      "<a class=\"elementor-item\" href=\"https://www.syntra.be/opleidingen/\">Opleidingen</a>\n",
      "<a class=\"elementor-sub-item\" href=\"https://www.syntra.be/opleidingen/voltijdse-dagopleidingen/\">Voltijdse dagopleidingen</a>\n",
      "<a class=\"elementor-sub-item\" href=\"https://www.syntra.be/opleidingen/lange-en-korte-opleidingen/\">Lange en korte opleidingen</a>\n",
      "<a class=\"elementor-sub-item\" href=\"https://www.syntra.be/opleidingen/duaal-leren/\">Duaal leren</a>\n",
      "<a class=\"elementor-sub-item\" href=\"https://www.syntra.be/opleidingen/bedrijfsopleidingen/\">Bedrijfsopleidingen</a>\n",
      "<a class=\"elementor-sub-item\" href=\"https://www.syntra.be/opleidingen/leerjobs/\">Leerjobs</a>\n",
      "<a class=\"elementor-item\" href=\"https://www.syntra.be/dossiers/\">Dossiers</a>\n",
      "<a class=\"elementor-item\" href=\"https://www.syntra.be/nieuws/\">Nieuws</a>\n",
      "<a class=\"elementor-item\" href=\"https://www.syntra.be/over-syntra/\">Over SYNTRA</a>\n",
      "<a class=\"elementor-sub-item\" href=\"https://www.syntra.be/over-syntra/syntra-faq/\">SYNTRA FAQ</a>\n",
      "<a class=\"elementor-sub-item\" href=\"https://www.syntra.be/over-syntra/over-syntrum/\">Over SYNTRUM</a>\n",
      "<a class=\"elementor-sub-item\" href=\"https://www.syntra.be/over-syntra/getuigenissen/\">Getuigenissen</a>\n",
      "<a class=\"elementor-item elementor-item-anchor\" href=\"#contact\">Contact</a>\n"
     ]
    }
   ],
   "source": [
    "all_links_of_nav_menu = menu.find_all('a')\n",
    "\n",
    "for link in all_links_of_nav_menu:\n",
    "    print(link)"
   ]
  },
  {
   "cell_type": "code",
   "execution_count": 77,
   "metadata": {},
   "outputs": [
    {
     "name": "stdout",
     "output_type": "stream",
     "text": [
      "<li class=\"menu-item menu-item-type-post_type menu-item-object-page menu-item-503\"><a class=\"elementor-sub-item\" href=\"https://www.syntra.be/opleidingen/voltijdse-dagopleidingen/\">Voltijdse dagopleidingen</a></li>\n",
      "- -- - \n",
      "<ul class=\"sub-menu elementor-nav-menu--dropdown\">\n",
      " <li class=\"menu-item menu-item-type-post_type menu-item-object-page menu-item-503\">\n",
      "  <a class=\"elementor-sub-item\" href=\"https://www.syntra.be/opleidingen/voltijdse-dagopleidingen/\">\n",
      "   Voltijdse dagopleidingen\n",
      "  </a>\n",
      " </li>\n",
      " <li class=\"menu-item menu-item-type-post_type menu-item-object-page menu-item-502\">\n",
      "  <a class=\"elementor-sub-item\" href=\"https://www.syntra.be/opleidingen/lange-en-korte-opleidingen/\">\n",
      "   Lange en korte opleidingen\n",
      "  </a>\n",
      " </li>\n",
      " <li class=\"menu-item menu-item-type-post_type menu-item-object-page menu-item-500\">\n",
      "  <a class=\"elementor-sub-item\" href=\"https://www.syntra.be/opleidingen/duaal-leren/\">\n",
      "   Duaal leren\n",
      "  </a>\n",
      " </li>\n",
      " <li class=\"menu-item menu-item-type-post_type menu-item-object-page menu-item-501\">\n",
      "  <a class=\"elementor-sub-item\" href=\"https://www.syntra.be/opleidingen/bedrijfsopleidingen/\">\n",
      "   Bedrijfsopleidingen\n",
      "  </a>\n",
      " </li>\n",
      " <li class=\"menu-item menu-item-type-post_type menu-item-object-page menu-item-8423\">\n",
      "  <a class=\"elementor-sub-item\" href=\"https://www.syntra.be/opleidingen/leerjobs/\">\n",
      "   Leerjobs\n",
      "  </a>\n",
      " </li>\n",
      "</ul>\n",
      "\n"
     ]
    }
   ],
   "source": [
    "li = menu.ul.li\n",
    "\n",
    "print(li)\n",
    "\n",
    "print('- -- - ')\n",
    "\n",
    "print(li.parent.prettify())"
   ]
  },
  {
   "cell_type": "code",
   "execution_count": 83,
   "metadata": {},
   "outputs": [
    {
     "name": "stdout",
     "output_type": "stream",
     "text": [
      "<li class=\"menu-item menu-item-type-post_type menu-item-object-page menu-item-502\"><a class=\"elementor-sub-item\" href=\"https://www.syntra.be/opleidingen/lange-en-korte-opleidingen/\">Lange en korte opleidingen</a></li>\n"
     ]
    }
   ],
   "source": [
    "li = menu.ul.li\n",
    "\n",
    "print(li.find_next_sibling())\n",
    "\n",
    "\n",
    "\n"
   ]
  },
  {
   "cell_type": "code",
   "execution_count": 87,
   "metadata": {},
   "outputs": [
    {
     "data": {
      "text/plain": [
       "<ul class=\"sub-menu elementor-nav-menu--dropdown\">\n",
       "<li class=\"menu-item menu-item-type-post_type menu-item-object-page menu-item-8259\"><a class=\"elementor-sub-item\" href=\"https://www.syntra.be/over-syntra/syntra-faq/\">SYNTRA FAQ</a></li>\n",
       "<li class=\"menu-item menu-item-type-post_type menu-item-object-page menu-item-8194\"><a class=\"elementor-sub-item\" href=\"https://www.syntra.be/over-syntra/over-syntrum/\">Over SYNTRUM</a></li>\n",
       "<li class=\"menu-item menu-item-type-post_type menu-item-object-page menu-item-8260\"><a class=\"elementor-sub-item\" href=\"https://www.syntra.be/over-syntra/getuigenissen/\">Getuigenissen</a></li>\n",
       "</ul>"
      ]
     },
     "execution_count": 87,
     "metadata": {},
     "output_type": "execute_result"
    }
   ],
   "source": [
    "menu.find_all('ul')[1]"
   ]
  }
 ],
 "metadata": {
  "kernelspec": {
   "display_name": "venv",
   "language": "python",
   "name": "python3"
  },
  "language_info": {
   "codemirror_mode": {
    "name": "ipython",
    "version": 3
   },
   "file_extension": ".py",
   "mimetype": "text/x-python",
   "name": "python",
   "nbconvert_exporter": "python",
   "pygments_lexer": "ipython3",
   "version": "3.10.7"
  }
 },
 "nbformat": 4,
 "nbformat_minor": 2
}
