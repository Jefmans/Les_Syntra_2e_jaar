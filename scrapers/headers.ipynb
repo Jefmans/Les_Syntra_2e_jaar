{
 "cells": [
  {
   "cell_type": "code",
   "execution_count": 12,
   "metadata": {},
   "outputs": [
    {
     "name": "stdout",
     "output_type": "stream",
     "text": [
      "User-Agent  :  Mozilla/5.0 (Windows NT 10.0; Win64; x64) AppleWebKit/537.36 (KHTML, like Gecko) Chrome/117.0.0.0 Safari/537.36 OPR/103.0.0.0\n",
      "Accept-Encoding  :  gzip, deflate, br\n",
      "Accept  :  text/html,application/xhtml+xml,application/xml;q=0.9,image/avif,image/webp,image/apng,*/*;q=0.8,application/signed-exchange;v=b3;q=0.7\n",
      "Connection  :  keep-alive\n",
      "Referer  :  https://www.google.com\n",
      "Accept-Language  :  nl-be, en;q=0.9, fr;q=0.8, en-US;q=0.7\n",
      "Sec-Fetch-Mode  :  navigate\n",
      "Sec-Fetch-Site  :  same-origin\n",
      "Sec-Fetch-Dest  :  document\n",
      "Upgrade-Insecure-Requests  :  1\n"
     ]
    }
   ],
   "source": [
    "import requests\n",
    "\n",
    "# base_url = \"https://www.zimmo.be/nl/mechelen/te-koop/huis/#gallery\"\n",
    "base_url = \"https://www.syntra.be\"\n",
    "\n",
    "headers = {\n",
    "    'User-Agent' : 'Mozilla/5.0 (Windows NT 10.0; Win64; x64) AppleWebKit/537.36 (KHTML, like Gecko) Chrome/117.0.0.0 Safari/537.36 OPR/103.0.0.0',\n",
    "    'Referer' : 'https://www.google.com',\n",
    "    'Accept' : 'text/html,application/xhtml+xml,application/xml;q=0.9,image/avif,image/webp,image/apng,*/*;q=0.8,application/signed-exchange;v=b3;q=0.7',\n",
    "    'Accept-Language' : 'nl-be, en;q=0.9, fr;q=0.8, en-US;q=0.7',\n",
    "    'Accept-Encoding' : 'gzip, deflate, br',\n",
    "    'Sec-Fetch-Mode' : 'navigate',\n",
    "    'Sec-Fetch-Site' : 'same-origin',\n",
    "    'Sec-Fetch-Dest' : 'document',\n",
    "    'Upgrade-Insecure-Requests' : '1'\n",
    "}\n",
    "\n",
    "\n",
    "r = requests.get(base_url, headers=headers)\n",
    "\n",
    "for header, value in r.request.headers.items():\n",
    "    print(header, ' : ', value)"
   ]
  },
  {
   "cell_type": "code",
   "execution_count": null,
   "metadata": {},
   "outputs": [],
   "source": [
    "import requests\n",
    "import itertools\n",
    "\n",
    "user_agents = [\n",
    "    \"Mozilla/5.0 (Windows NT 10.0; Win64; x64) AppleWebKit/537.36 (KHTML, like Gecko) Chrome/111.0.0.0 Safari/537.36\",\n",
    "    \"Mozilla/5.0 (Windows NT 10.0; Win64; x64) AppleWebKit/537.36 (KHTML, like Gecko) Chrome/112.0.0.0 Safari/537.36\",\n",
    "    \"Mozilla/5.0 (Windows NT 10.0; Win64; x64) AppleWebKit/537.36 (KHTML, like Gecko) Chrome/109.0.0.0 Safari/537.36\",\n",
    "    \"Mozilla/5.0 (Macintosh; Intel Mac OS X 10_15_7) AppleWebKit/537.36 (KHTML, like Gecko) Chrome/111.0.0.0 Safari/537.36\"\n",
    "]\n",
    "\n",
    "ua_cycle = itertools.cycle(user_agents)\n",
    "\n",
    "for i in range(10):\n",
    "    headers = {\"User-Agent\" : next(ua_cycle)}\n",
    "    response = requests.get(\"https://httpbin.org/headers\", headers=headers)\n",
    "    print(response.json()['headers']['User-Agent'])"
   ]
  }
 ],
 "metadata": {
  "kernelspec": {
   "display_name": "venv",
   "language": "python",
   "name": "python3"
  },
  "language_info": {
   "codemirror_mode": {
    "name": "ipython",
    "version": 3
   },
   "file_extension": ".py",
   "mimetype": "text/x-python",
   "name": "python",
   "nbconvert_exporter": "python",
   "pygments_lexer": "ipython3",
   "version": "3.10.7"
  }
 },
 "nbformat": 4,
 "nbformat_minor": 2
}
